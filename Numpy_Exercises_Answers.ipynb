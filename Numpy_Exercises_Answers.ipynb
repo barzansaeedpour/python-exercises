{
  "nbformat": 4,
  "nbformat_minor": 0,
  "metadata": {
    "colab": {
      "provenance": [],
      "authorship_tag": "ABX9TyNlq83l4sSJkZC11D3EnL7W",
      "include_colab_link": true
    },
    "kernelspec": {
      "name": "python3",
      "display_name": "Python 3"
    },
    "language_info": {
      "name": "python"
    }
  },
  "cells": [
    {
      "cell_type": "markdown",
      "metadata": {
        "id": "view-in-github",
        "colab_type": "text"
      },
      "source": [
        "<a href=\"https://colab.research.google.com/github/barzansaeedpour/python-exercises/blob/main/Numpy_Exercises_Answers.ipynb\" target=\"_parent\"><img src=\"https://colab.research.google.com/assets/colab-badge.svg\" alt=\"Open In Colab\"/></a>"
      ]
    },
    {
      "cell_type": "markdown",
      "source": [
        "## Dataset\n",
        "\n",
        "We'll use the Iris dataset, which is a classic dataset in data science. It contains measurements of 150 iris flowers from three different species."
      ],
      "metadata": {
        "id": "-M1QYdVN-wGx"
      }
    },
    {
      "cell_type": "code",
      "source": [
        "import pandas as pd\n",
        "import numpy as np\n",
        "\n",
        "url = \"https://archive.ics.uci.edu/ml/machine-learning-databases/iris/iris.data\"\n",
        "names = ['sepal-length', 'sepal-width', 'petal-length', 'petal-width', 'species']\n",
        "dataset = pd.read_csv(url, names=names)\n"
      ],
      "metadata": {
        "id": "jCMAiXY3-v6Z"
      },
      "execution_count": null,
      "outputs": []
    },
    {
      "cell_type": "markdown",
      "source": [
        "## Exercises"
      ],
      "metadata": {
        "id": "S6Ue-pY4_Dcg"
      }
    },
    {
      "cell_type": "markdown",
      "source": [
        "Create a NumPy array from the dataset:"
      ],
      "metadata": {
        "id": "iReGZHmT_I2f"
      }
    },
    {
      "cell_type": "code",
      "source": [
        "data = dataset.values\n",
        "print(data)"
      ],
      "metadata": {
        "colab": {
          "base_uri": "https://localhost:8080/"
        },
        "id": "bKXhHvhU_CzQ",
        "outputId": "8fcd5a7b-af28-4c1f-9ca8-740cf84524d6"
      },
      "execution_count": null,
      "outputs": [
        {
          "output_type": "stream",
          "name": "stdout",
          "text": [
            "[[5.1 3.5 1.4 0.2 'Iris-setosa']\n",
            " [4.9 3.0 1.4 0.2 'Iris-setosa']\n",
            " [4.7 3.2 1.3 0.2 'Iris-setosa']\n",
            " [4.6 3.1 1.5 0.2 'Iris-setosa']\n",
            " [5.0 3.6 1.4 0.2 'Iris-setosa']\n",
            " [5.4 3.9 1.7 0.4 'Iris-setosa']\n",
            " [4.6 3.4 1.4 0.3 'Iris-setosa']\n",
            " [5.0 3.4 1.5 0.2 'Iris-setosa']\n",
            " [4.4 2.9 1.4 0.2 'Iris-setosa']\n",
            " [4.9 3.1 1.5 0.1 'Iris-setosa']\n",
            " [5.4 3.7 1.5 0.2 'Iris-setosa']\n",
            " [4.8 3.4 1.6 0.2 'Iris-setosa']\n",
            " [4.8 3.0 1.4 0.1 'Iris-setosa']\n",
            " [4.3 3.0 1.1 0.1 'Iris-setosa']\n",
            " [5.8 4.0 1.2 0.2 'Iris-setosa']\n",
            " [5.7 4.4 1.5 0.4 'Iris-setosa']\n",
            " [5.4 3.9 1.3 0.4 'Iris-setosa']\n",
            " [5.1 3.5 1.4 0.3 'Iris-setosa']\n",
            " [5.7 3.8 1.7 0.3 'Iris-setosa']\n",
            " [5.1 3.8 1.5 0.3 'Iris-setosa']\n",
            " [5.4 3.4 1.7 0.2 'Iris-setosa']\n",
            " [5.1 3.7 1.5 0.4 'Iris-setosa']\n",
            " [4.6 3.6 1.0 0.2 'Iris-setosa']\n",
            " [5.1 3.3 1.7 0.5 'Iris-setosa']\n",
            " [4.8 3.4 1.9 0.2 'Iris-setosa']\n",
            " [5.0 3.0 1.6 0.2 'Iris-setosa']\n",
            " [5.0 3.4 1.6 0.4 'Iris-setosa']\n",
            " [5.2 3.5 1.5 0.2 'Iris-setosa']\n",
            " [5.2 3.4 1.4 0.2 'Iris-setosa']\n",
            " [4.7 3.2 1.6 0.2 'Iris-setosa']\n",
            " [4.8 3.1 1.6 0.2 'Iris-setosa']\n",
            " [5.4 3.4 1.5 0.4 'Iris-setosa']\n",
            " [5.2 4.1 1.5 0.1 'Iris-setosa']\n",
            " [5.5 4.2 1.4 0.2 'Iris-setosa']\n",
            " [4.9 3.1 1.5 0.1 'Iris-setosa']\n",
            " [5.0 3.2 1.2 0.2 'Iris-setosa']\n",
            " [5.5 3.5 1.3 0.2 'Iris-setosa']\n",
            " [4.9 3.1 1.5 0.1 'Iris-setosa']\n",
            " [4.4 3.0 1.3 0.2 'Iris-setosa']\n",
            " [5.1 3.4 1.5 0.2 'Iris-setosa']\n",
            " [5.0 3.5 1.3 0.3 'Iris-setosa']\n",
            " [4.5 2.3 1.3 0.3 'Iris-setosa']\n",
            " [4.4 3.2 1.3 0.2 'Iris-setosa']\n",
            " [5.0 3.5 1.6 0.6 'Iris-setosa']\n",
            " [5.1 3.8 1.9 0.4 'Iris-setosa']\n",
            " [4.8 3.0 1.4 0.3 'Iris-setosa']\n",
            " [5.1 3.8 1.6 0.2 'Iris-setosa']\n",
            " [4.6 3.2 1.4 0.2 'Iris-setosa']\n",
            " [5.3 3.7 1.5 0.2 'Iris-setosa']\n",
            " [5.0 3.3 1.4 0.2 'Iris-setosa']\n",
            " [7.0 3.2 4.7 1.4 'Iris-versicolor']\n",
            " [6.4 3.2 4.5 1.5 'Iris-versicolor']\n",
            " [6.9 3.1 4.9 1.5 'Iris-versicolor']\n",
            " [5.5 2.3 4.0 1.3 'Iris-versicolor']\n",
            " [6.5 2.8 4.6 1.5 'Iris-versicolor']\n",
            " [5.7 2.8 4.5 1.3 'Iris-versicolor']\n",
            " [6.3 3.3 4.7 1.6 'Iris-versicolor']\n",
            " [4.9 2.4 3.3 1.0 'Iris-versicolor']\n",
            " [6.6 2.9 4.6 1.3 'Iris-versicolor']\n",
            " [5.2 2.7 3.9 1.4 'Iris-versicolor']\n",
            " [5.0 2.0 3.5 1.0 'Iris-versicolor']\n",
            " [5.9 3.0 4.2 1.5 'Iris-versicolor']\n",
            " [6.0 2.2 4.0 1.0 'Iris-versicolor']\n",
            " [6.1 2.9 4.7 1.4 'Iris-versicolor']\n",
            " [5.6 2.9 3.6 1.3 'Iris-versicolor']\n",
            " [6.7 3.1 4.4 1.4 'Iris-versicolor']\n",
            " [5.6 3.0 4.5 1.5 'Iris-versicolor']\n",
            " [5.8 2.7 4.1 1.0 'Iris-versicolor']\n",
            " [6.2 2.2 4.5 1.5 'Iris-versicolor']\n",
            " [5.6 2.5 3.9 1.1 'Iris-versicolor']\n",
            " [5.9 3.2 4.8 1.8 'Iris-versicolor']\n",
            " [6.1 2.8 4.0 1.3 'Iris-versicolor']\n",
            " [6.3 2.5 4.9 1.5 'Iris-versicolor']\n",
            " [6.1 2.8 4.7 1.2 'Iris-versicolor']\n",
            " [6.4 2.9 4.3 1.3 'Iris-versicolor']\n",
            " [6.6 3.0 4.4 1.4 'Iris-versicolor']\n",
            " [6.8 2.8 4.8 1.4 'Iris-versicolor']\n",
            " [6.7 3.0 5.0 1.7 'Iris-versicolor']\n",
            " [6.0 2.9 4.5 1.5 'Iris-versicolor']\n",
            " [5.7 2.6 3.5 1.0 'Iris-versicolor']\n",
            " [5.5 2.4 3.8 1.1 'Iris-versicolor']\n",
            " [5.5 2.4 3.7 1.0 'Iris-versicolor']\n",
            " [5.8 2.7 3.9 1.2 'Iris-versicolor']\n",
            " [6.0 2.7 5.1 1.6 'Iris-versicolor']\n",
            " [5.4 3.0 4.5 1.5 'Iris-versicolor']\n",
            " [6.0 3.4 4.5 1.6 'Iris-versicolor']\n",
            " [6.7 3.1 4.7 1.5 'Iris-versicolor']\n",
            " [6.3 2.3 4.4 1.3 'Iris-versicolor']\n",
            " [5.6 3.0 4.1 1.3 'Iris-versicolor']\n",
            " [5.5 2.5 4.0 1.3 'Iris-versicolor']\n",
            " [5.5 2.6 4.4 1.2 'Iris-versicolor']\n",
            " [6.1 3.0 4.6 1.4 'Iris-versicolor']\n",
            " [5.8 2.6 4.0 1.2 'Iris-versicolor']\n",
            " [5.0 2.3 3.3 1.0 'Iris-versicolor']\n",
            " [5.6 2.7 4.2 1.3 'Iris-versicolor']\n",
            " [5.7 3.0 4.2 1.2 'Iris-versicolor']\n",
            " [5.7 2.9 4.2 1.3 'Iris-versicolor']\n",
            " [6.2 2.9 4.3 1.3 'Iris-versicolor']\n",
            " [5.1 2.5 3.0 1.1 'Iris-versicolor']\n",
            " [5.7 2.8 4.1 1.3 'Iris-versicolor']\n",
            " [6.3 3.3 6.0 2.5 'Iris-virginica']\n",
            " [5.8 2.7 5.1 1.9 'Iris-virginica']\n",
            " [7.1 3.0 5.9 2.1 'Iris-virginica']\n",
            " [6.3 2.9 5.6 1.8 'Iris-virginica']\n",
            " [6.5 3.0 5.8 2.2 'Iris-virginica']\n",
            " [7.6 3.0 6.6 2.1 'Iris-virginica']\n",
            " [4.9 2.5 4.5 1.7 'Iris-virginica']\n",
            " [7.3 2.9 6.3 1.8 'Iris-virginica']\n",
            " [6.7 2.5 5.8 1.8 'Iris-virginica']\n",
            " [7.2 3.6 6.1 2.5 'Iris-virginica']\n",
            " [6.5 3.2 5.1 2.0 'Iris-virginica']\n",
            " [6.4 2.7 5.3 1.9 'Iris-virginica']\n",
            " [6.8 3.0 5.5 2.1 'Iris-virginica']\n",
            " [5.7 2.5 5.0 2.0 'Iris-virginica']\n",
            " [5.8 2.8 5.1 2.4 'Iris-virginica']\n",
            " [6.4 3.2 5.3 2.3 'Iris-virginica']\n",
            " [6.5 3.0 5.5 1.8 'Iris-virginica']\n",
            " [7.7 3.8 6.7 2.2 'Iris-virginica']\n",
            " [7.7 2.6 6.9 2.3 'Iris-virginica']\n",
            " [6.0 2.2 5.0 1.5 'Iris-virginica']\n",
            " [6.9 3.2 5.7 2.3 'Iris-virginica']\n",
            " [5.6 2.8 4.9 2.0 'Iris-virginica']\n",
            " [7.7 2.8 6.7 2.0 'Iris-virginica']\n",
            " [6.3 2.7 4.9 1.8 'Iris-virginica']\n",
            " [6.7 3.3 5.7 2.1 'Iris-virginica']\n",
            " [7.2 3.2 6.0 1.8 'Iris-virginica']\n",
            " [6.2 2.8 4.8 1.8 'Iris-virginica']\n",
            " [6.1 3.0 4.9 1.8 'Iris-virginica']\n",
            " [6.4 2.8 5.6 2.1 'Iris-virginica']\n",
            " [7.2 3.0 5.8 1.6 'Iris-virginica']\n",
            " [7.4 2.8 6.1 1.9 'Iris-virginica']\n",
            " [7.9 3.8 6.4 2.0 'Iris-virginica']\n",
            " [6.4 2.8 5.6 2.2 'Iris-virginica']\n",
            " [6.3 2.8 5.1 1.5 'Iris-virginica']\n",
            " [6.1 2.6 5.6 1.4 'Iris-virginica']\n",
            " [7.7 3.0 6.1 2.3 'Iris-virginica']\n",
            " [6.3 3.4 5.6 2.4 'Iris-virginica']\n",
            " [6.4 3.1 5.5 1.8 'Iris-virginica']\n",
            " [6.0 3.0 4.8 1.8 'Iris-virginica']\n",
            " [6.9 3.1 5.4 2.1 'Iris-virginica']\n",
            " [6.7 3.1 5.6 2.4 'Iris-virginica']\n",
            " [6.9 3.1 5.1 2.3 'Iris-virginica']\n",
            " [5.8 2.7 5.1 1.9 'Iris-virginica']\n",
            " [6.8 3.2 5.9 2.3 'Iris-virginica']\n",
            " [6.7 3.3 5.7 2.5 'Iris-virginica']\n",
            " [6.7 3.0 5.2 2.3 'Iris-virginica']\n",
            " [6.3 2.5 5.0 1.9 'Iris-virginica']\n",
            " [6.5 3.0 5.2 2.0 'Iris-virginica']\n",
            " [6.2 3.4 5.4 2.3 'Iris-virginica']\n",
            " [5.9 3.0 5.1 1.8 'Iris-virginica']]\n"
          ]
        }
      ]
    },
    {
      "cell_type": "markdown",
      "source": [
        "Find the mean of the sepal length:"
      ],
      "metadata": {
        "id": "_d0Odt-8_ZcY"
      }
    },
    {
      "cell_type": "code",
      "execution_count": null,
      "metadata": {
        "colab": {
          "base_uri": "https://localhost:8080/"
        },
        "id": "R-qMkaUG-aBA",
        "outputId": "acd65ab9-d256-4276-8597-edc59af31a2f"
      },
      "outputs": [
        {
          "output_type": "stream",
          "name": "stdout",
          "text": [
            "Mean Sepal Length: 5.843333333333335\n"
          ]
        }
      ],
      "source": [
        "sepal_length = data[:, 0]\n",
        "mean_sepal_length = np.mean(sepal_length)\n",
        "print(\"Mean Sepal Length:\", mean_sepal_length)\n"
      ]
    },
    {
      "cell_type": "markdown",
      "source": [
        "Calculate the standard deviation of the petal width:"
      ],
      "metadata": {
        "id": "6Uxnxime_gqg"
      }
    },
    {
      "cell_type": "code",
      "source": [
        "petal_width = data[:, 3]\n",
        "std_petal_width = np.std(petal_width)\n",
        "print(\"Standard Deviation of Petal Width:\", std_petal_width)\n"
      ],
      "metadata": {
        "colab": {
          "base_uri": "https://localhost:8080/"
        },
        "id": "Ywf1qGDA_beI",
        "outputId": "344817c1-0190-4006-faa5-6f7a1ec6f3ff"
      },
      "execution_count": null,
      "outputs": [
        {
          "output_type": "stream",
          "name": "stdout",
          "text": [
            "Standard Deviation of Petal Width: 0.760612618588172\n"
          ]
        }
      ]
    },
    {
      "cell_type": "markdown",
      "source": [
        "Create a boolean array for flowers with petal length greater than 3.5:"
      ],
      "metadata": {
        "id": "2T4h9NU7_nIY"
      }
    },
    {
      "cell_type": "code",
      "source": [
        "petal_length = data[:, 2]\n",
        "boolean_array = petal_length > 3.5\n",
        "print(\"Boolean Array:\", boolean_array)\n"
      ],
      "metadata": {
        "colab": {
          "base_uri": "https://localhost:8080/"
        },
        "id": "mFmHd4-z_j0H",
        "outputId": "b4fb6327-1c3d-4f4e-aa5f-4f69d0b0b4e8"
      },
      "execution_count": null,
      "outputs": [
        {
          "output_type": "stream",
          "name": "stdout",
          "text": [
            "Boolean Array: [False False False False False False False False False False False False\n",
            " False False False False False False False False False False False False\n",
            " False False False False False False False False False False False False\n",
            " False False False False False False False False False False False False\n",
            " False False  True  True  True  True  True  True  True False  True  True\n",
            " False  True  True  True  True  True  True  True  True  True  True  True\n",
            "  True  True  True  True  True  True  True False  True  True  True  True\n",
            "  True  True  True  True  True  True  True  True  True False  True  True\n",
            "  True  True False  True  True  True  True  True  True  True  True  True\n",
            "  True  True  True  True  True  True  True  True  True  True  True  True\n",
            "  True  True  True  True  True  True  True  True  True  True  True  True\n",
            "  True  True  True  True  True  True  True  True  True  True  True  True\n",
            "  True  True  True  True  True  True]\n"
          ]
        }
      ]
    },
    {
      "cell_type": "markdown",
      "source": [
        "Reshape the dataset into a 2D array with 75 rows and 10 columns:"
      ],
      "metadata": {
        "id": "yvtjFSFy_16A"
      }
    },
    {
      "cell_type": "code",
      "source": [
        "reshaped_data = np.reshape(data, (75, 10))\n",
        "print(\"Reshaped Data:\\n\", reshaped_data)\n"
      ],
      "metadata": {
        "colab": {
          "base_uri": "https://localhost:8080/"
        },
        "id": "qItiK1Gn_qW3",
        "outputId": "1b0a1e00-80bc-4e0c-8afd-ed09fe113783"
      },
      "execution_count": null,
      "outputs": [
        {
          "output_type": "stream",
          "name": "stdout",
          "text": [
            "Reshaped Data:\n",
            " [[5.1 3.5 1.4 0.2 'Iris-setosa' 4.9 3.0 1.4 0.2 'Iris-setosa']\n",
            " [4.7 3.2 1.3 0.2 'Iris-setosa' 4.6 3.1 1.5 0.2 'Iris-setosa']\n",
            " [5.0 3.6 1.4 0.2 'Iris-setosa' 5.4 3.9 1.7 0.4 'Iris-setosa']\n",
            " [4.6 3.4 1.4 0.3 'Iris-setosa' 5.0 3.4 1.5 0.2 'Iris-setosa']\n",
            " [4.4 2.9 1.4 0.2 'Iris-setosa' 4.9 3.1 1.5 0.1 'Iris-setosa']\n",
            " [5.4 3.7 1.5 0.2 'Iris-setosa' 4.8 3.4 1.6 0.2 'Iris-setosa']\n",
            " [4.8 3.0 1.4 0.1 'Iris-setosa' 4.3 3.0 1.1 0.1 'Iris-setosa']\n",
            " [5.8 4.0 1.2 0.2 'Iris-setosa' 5.7 4.4 1.5 0.4 'Iris-setosa']\n",
            " [5.4 3.9 1.3 0.4 'Iris-setosa' 5.1 3.5 1.4 0.3 'Iris-setosa']\n",
            " [5.7 3.8 1.7 0.3 'Iris-setosa' 5.1 3.8 1.5 0.3 'Iris-setosa']\n",
            " [5.4 3.4 1.7 0.2 'Iris-setosa' 5.1 3.7 1.5 0.4 'Iris-setosa']\n",
            " [4.6 3.6 1.0 0.2 'Iris-setosa' 5.1 3.3 1.7 0.5 'Iris-setosa']\n",
            " [4.8 3.4 1.9 0.2 'Iris-setosa' 5.0 3.0 1.6 0.2 'Iris-setosa']\n",
            " [5.0 3.4 1.6 0.4 'Iris-setosa' 5.2 3.5 1.5 0.2 'Iris-setosa']\n",
            " [5.2 3.4 1.4 0.2 'Iris-setosa' 4.7 3.2 1.6 0.2 'Iris-setosa']\n",
            " [4.8 3.1 1.6 0.2 'Iris-setosa' 5.4 3.4 1.5 0.4 'Iris-setosa']\n",
            " [5.2 4.1 1.5 0.1 'Iris-setosa' 5.5 4.2 1.4 0.2 'Iris-setosa']\n",
            " [4.9 3.1 1.5 0.1 'Iris-setosa' 5.0 3.2 1.2 0.2 'Iris-setosa']\n",
            " [5.5 3.5 1.3 0.2 'Iris-setosa' 4.9 3.1 1.5 0.1 'Iris-setosa']\n",
            " [4.4 3.0 1.3 0.2 'Iris-setosa' 5.1 3.4 1.5 0.2 'Iris-setosa']\n",
            " [5.0 3.5 1.3 0.3 'Iris-setosa' 4.5 2.3 1.3 0.3 'Iris-setosa']\n",
            " [4.4 3.2 1.3 0.2 'Iris-setosa' 5.0 3.5 1.6 0.6 'Iris-setosa']\n",
            " [5.1 3.8 1.9 0.4 'Iris-setosa' 4.8 3.0 1.4 0.3 'Iris-setosa']\n",
            " [5.1 3.8 1.6 0.2 'Iris-setosa' 4.6 3.2 1.4 0.2 'Iris-setosa']\n",
            " [5.3 3.7 1.5 0.2 'Iris-setosa' 5.0 3.3 1.4 0.2 'Iris-setosa']\n",
            " [7.0 3.2 4.7 1.4 'Iris-versicolor' 6.4 3.2 4.5 1.5 'Iris-versicolor']\n",
            " [6.9 3.1 4.9 1.5 'Iris-versicolor' 5.5 2.3 4.0 1.3 'Iris-versicolor']\n",
            " [6.5 2.8 4.6 1.5 'Iris-versicolor' 5.7 2.8 4.5 1.3 'Iris-versicolor']\n",
            " [6.3 3.3 4.7 1.6 'Iris-versicolor' 4.9 2.4 3.3 1.0 'Iris-versicolor']\n",
            " [6.6 2.9 4.6 1.3 'Iris-versicolor' 5.2 2.7 3.9 1.4 'Iris-versicolor']\n",
            " [5.0 2.0 3.5 1.0 'Iris-versicolor' 5.9 3.0 4.2 1.5 'Iris-versicolor']\n",
            " [6.0 2.2 4.0 1.0 'Iris-versicolor' 6.1 2.9 4.7 1.4 'Iris-versicolor']\n",
            " [5.6 2.9 3.6 1.3 'Iris-versicolor' 6.7 3.1 4.4 1.4 'Iris-versicolor']\n",
            " [5.6 3.0 4.5 1.5 'Iris-versicolor' 5.8 2.7 4.1 1.0 'Iris-versicolor']\n",
            " [6.2 2.2 4.5 1.5 'Iris-versicolor' 5.6 2.5 3.9 1.1 'Iris-versicolor']\n",
            " [5.9 3.2 4.8 1.8 'Iris-versicolor' 6.1 2.8 4.0 1.3 'Iris-versicolor']\n",
            " [6.3 2.5 4.9 1.5 'Iris-versicolor' 6.1 2.8 4.7 1.2 'Iris-versicolor']\n",
            " [6.4 2.9 4.3 1.3 'Iris-versicolor' 6.6 3.0 4.4 1.4 'Iris-versicolor']\n",
            " [6.8 2.8 4.8 1.4 'Iris-versicolor' 6.7 3.0 5.0 1.7 'Iris-versicolor']\n",
            " [6.0 2.9 4.5 1.5 'Iris-versicolor' 5.7 2.6 3.5 1.0 'Iris-versicolor']\n",
            " [5.5 2.4 3.8 1.1 'Iris-versicolor' 5.5 2.4 3.7 1.0 'Iris-versicolor']\n",
            " [5.8 2.7 3.9 1.2 'Iris-versicolor' 6.0 2.7 5.1 1.6 'Iris-versicolor']\n",
            " [5.4 3.0 4.5 1.5 'Iris-versicolor' 6.0 3.4 4.5 1.6 'Iris-versicolor']\n",
            " [6.7 3.1 4.7 1.5 'Iris-versicolor' 6.3 2.3 4.4 1.3 'Iris-versicolor']\n",
            " [5.6 3.0 4.1 1.3 'Iris-versicolor' 5.5 2.5 4.0 1.3 'Iris-versicolor']\n",
            " [5.5 2.6 4.4 1.2 'Iris-versicolor' 6.1 3.0 4.6 1.4 'Iris-versicolor']\n",
            " [5.8 2.6 4.0 1.2 'Iris-versicolor' 5.0 2.3 3.3 1.0 'Iris-versicolor']\n",
            " [5.6 2.7 4.2 1.3 'Iris-versicolor' 5.7 3.0 4.2 1.2 'Iris-versicolor']\n",
            " [5.7 2.9 4.2 1.3 'Iris-versicolor' 6.2 2.9 4.3 1.3 'Iris-versicolor']\n",
            " [5.1 2.5 3.0 1.1 'Iris-versicolor' 5.7 2.8 4.1 1.3 'Iris-versicolor']\n",
            " [6.3 3.3 6.0 2.5 'Iris-virginica' 5.8 2.7 5.1 1.9 'Iris-virginica']\n",
            " [7.1 3.0 5.9 2.1 'Iris-virginica' 6.3 2.9 5.6 1.8 'Iris-virginica']\n",
            " [6.5 3.0 5.8 2.2 'Iris-virginica' 7.6 3.0 6.6 2.1 'Iris-virginica']\n",
            " [4.9 2.5 4.5 1.7 'Iris-virginica' 7.3 2.9 6.3 1.8 'Iris-virginica']\n",
            " [6.7 2.5 5.8 1.8 'Iris-virginica' 7.2 3.6 6.1 2.5 'Iris-virginica']\n",
            " [6.5 3.2 5.1 2.0 'Iris-virginica' 6.4 2.7 5.3 1.9 'Iris-virginica']\n",
            " [6.8 3.0 5.5 2.1 'Iris-virginica' 5.7 2.5 5.0 2.0 'Iris-virginica']\n",
            " [5.8 2.8 5.1 2.4 'Iris-virginica' 6.4 3.2 5.3 2.3 'Iris-virginica']\n",
            " [6.5 3.0 5.5 1.8 'Iris-virginica' 7.7 3.8 6.7 2.2 'Iris-virginica']\n",
            " [7.7 2.6 6.9 2.3 'Iris-virginica' 6.0 2.2 5.0 1.5 'Iris-virginica']\n",
            " [6.9 3.2 5.7 2.3 'Iris-virginica' 5.6 2.8 4.9 2.0 'Iris-virginica']\n",
            " [7.7 2.8 6.7 2.0 'Iris-virginica' 6.3 2.7 4.9 1.8 'Iris-virginica']\n",
            " [6.7 3.3 5.7 2.1 'Iris-virginica' 7.2 3.2 6.0 1.8 'Iris-virginica']\n",
            " [6.2 2.8 4.8 1.8 'Iris-virginica' 6.1 3.0 4.9 1.8 'Iris-virginica']\n",
            " [6.4 2.8 5.6 2.1 'Iris-virginica' 7.2 3.0 5.8 1.6 'Iris-virginica']\n",
            " [7.4 2.8 6.1 1.9 'Iris-virginica' 7.9 3.8 6.4 2.0 'Iris-virginica']\n",
            " [6.4 2.8 5.6 2.2 'Iris-virginica' 6.3 2.8 5.1 1.5 'Iris-virginica']\n",
            " [6.1 2.6 5.6 1.4 'Iris-virginica' 7.7 3.0 6.1 2.3 'Iris-virginica']\n",
            " [6.3 3.4 5.6 2.4 'Iris-virginica' 6.4 3.1 5.5 1.8 'Iris-virginica']\n",
            " [6.0 3.0 4.8 1.8 'Iris-virginica' 6.9 3.1 5.4 2.1 'Iris-virginica']\n",
            " [6.7 3.1 5.6 2.4 'Iris-virginica' 6.9 3.1 5.1 2.3 'Iris-virginica']\n",
            " [5.8 2.7 5.1 1.9 'Iris-virginica' 6.8 3.2 5.9 2.3 'Iris-virginica']\n",
            " [6.7 3.3 5.7 2.5 'Iris-virginica' 6.7 3.0 5.2 2.3 'Iris-virginica']\n",
            " [6.3 2.5 5.0 1.9 'Iris-virginica' 6.5 3.0 5.2 2.0 'Iris-virginica']\n",
            " [6.2 3.4 5.4 2.3 'Iris-virginica' 5.9 3.0 5.1 1.8 'Iris-virginica']]\n"
          ]
        }
      ]
    },
    {
      "cell_type": "markdown",
      "source": [
        "Find the maximum value in the dataset:"
      ],
      "metadata": {
        "id": "4FPJ0RZvAyGA"
      }
    },
    {
      "cell_type": "code",
      "source": [
        "max_value = np.max(data[:,[0,1,2]])\n",
        "print(\"Maximum Value:\", max_value)\n"
      ],
      "metadata": {
        "colab": {
          "base_uri": "https://localhost:8080/"
        },
        "id": "DDGRnTi-AL2w",
        "outputId": "20b39526-5f60-4145-b549-5f30b96459cb"
      },
      "execution_count": null,
      "outputs": [
        {
          "output_type": "stream",
          "name": "stdout",
          "text": [
            "Maximum Value: 7.9\n"
          ]
        }
      ]
    },
    {
      "cell_type": "markdown",
      "source": [
        "Sort the dataset by sepal length:"
      ],
      "metadata": {
        "id": "XBjrQxBuA88g"
      }
    },
    {
      "cell_type": "code",
      "source": [
        "sorted_data = data[data[:, 0].argsort()]\n",
        "print(\"Sorted Data by Sepal Length:\", sorted_data)\n"
      ],
      "metadata": {
        "colab": {
          "base_uri": "https://localhost:8080/"
        },
        "id": "ez61fli9_4s_",
        "outputId": "69770983-2a4a-49f6-fed4-169ffc2128f8"
      },
      "execution_count": null,
      "outputs": [
        {
          "output_type": "stream",
          "name": "stdout",
          "text": [
            "Sorted Data by Sepal Length: [[4.3 3.0 1.1 0.1 'Iris-setosa']\n",
            " [4.4 3.2 1.3 0.2 'Iris-setosa']\n",
            " [4.4 3.0 1.3 0.2 'Iris-setosa']\n",
            " [4.4 2.9 1.4 0.2 'Iris-setosa']\n",
            " [4.5 2.3 1.3 0.3 'Iris-setosa']\n",
            " [4.6 3.6 1.0 0.2 'Iris-setosa']\n",
            " [4.6 3.1 1.5 0.2 'Iris-setosa']\n",
            " [4.6 3.4 1.4 0.3 'Iris-setosa']\n",
            " [4.6 3.2 1.4 0.2 'Iris-setosa']\n",
            " [4.7 3.2 1.3 0.2 'Iris-setosa']\n",
            " [4.7 3.2 1.6 0.2 'Iris-setosa']\n",
            " [4.8 3.0 1.4 0.1 'Iris-setosa']\n",
            " [4.8 3.0 1.4 0.3 'Iris-setosa']\n",
            " [4.8 3.4 1.9 0.2 'Iris-setosa']\n",
            " [4.8 3.4 1.6 0.2 'Iris-setosa']\n",
            " [4.8 3.1 1.6 0.2 'Iris-setosa']\n",
            " [4.9 2.4 3.3 1.0 'Iris-versicolor']\n",
            " [4.9 2.5 4.5 1.7 'Iris-virginica']\n",
            " [4.9 3.1 1.5 0.1 'Iris-setosa']\n",
            " [4.9 3.1 1.5 0.1 'Iris-setosa']\n",
            " [4.9 3.1 1.5 0.1 'Iris-setosa']\n",
            " [4.9 3.0 1.4 0.2 'Iris-setosa']\n",
            " [5.0 3.5 1.3 0.3 'Iris-setosa']\n",
            " [5.0 3.4 1.6 0.4 'Iris-setosa']\n",
            " [5.0 3.3 1.4 0.2 'Iris-setosa']\n",
            " [5.0 3.2 1.2 0.2 'Iris-setosa']\n",
            " [5.0 3.5 1.6 0.6 'Iris-setosa']\n",
            " [5.0 2.0 3.5 1.0 'Iris-versicolor']\n",
            " [5.0 3.4 1.5 0.2 'Iris-setosa']\n",
            " [5.0 2.3 3.3 1.0 'Iris-versicolor']\n",
            " [5.0 3.6 1.4 0.2 'Iris-setosa']\n",
            " [5.0 3.0 1.6 0.2 'Iris-setosa']\n",
            " [5.1 3.8 1.9 0.4 'Iris-setosa']\n",
            " [5.1 3.8 1.6 0.2 'Iris-setosa']\n",
            " [5.1 2.5 3.0 1.1 'Iris-versicolor']\n",
            " [5.1 3.5 1.4 0.2 'Iris-setosa']\n",
            " [5.1 3.4 1.5 0.2 'Iris-setosa']\n",
            " [5.1 3.5 1.4 0.3 'Iris-setosa']\n",
            " [5.1 3.3 1.7 0.5 'Iris-setosa']\n",
            " [5.1 3.7 1.5 0.4 'Iris-setosa']\n",
            " [5.1 3.8 1.5 0.3 'Iris-setosa']\n",
            " [5.2 4.1 1.5 0.1 'Iris-setosa']\n",
            " [5.2 3.4 1.4 0.2 'Iris-setosa']\n",
            " [5.2 3.5 1.5 0.2 'Iris-setosa']\n",
            " [5.2 2.7 3.9 1.4 'Iris-versicolor']\n",
            " [5.3 3.7 1.5 0.2 'Iris-setosa']\n",
            " [5.4 3.0 4.5 1.5 'Iris-versicolor']\n",
            " [5.4 3.9 1.7 0.4 'Iris-setosa']\n",
            " [5.4 3.4 1.7 0.2 'Iris-setosa']\n",
            " [5.4 3.4 1.5 0.4 'Iris-setosa']\n",
            " [5.4 3.7 1.5 0.2 'Iris-setosa']\n",
            " [5.4 3.9 1.3 0.4 'Iris-setosa']\n",
            " [5.5 3.5 1.3 0.2 'Iris-setosa']\n",
            " [5.5 2.6 4.4 1.2 'Iris-versicolor']\n",
            " [5.5 4.2 1.4 0.2 'Iris-setosa']\n",
            " [5.5 2.3 4.0 1.3 'Iris-versicolor']\n",
            " [5.5 2.4 3.7 1.0 'Iris-versicolor']\n",
            " [5.5 2.4 3.8 1.1 'Iris-versicolor']\n",
            " [5.5 2.5 4.0 1.3 'Iris-versicolor']\n",
            " [5.6 3.0 4.1 1.3 'Iris-versicolor']\n",
            " [5.6 2.8 4.9 2.0 'Iris-virginica']\n",
            " [5.6 3.0 4.5 1.5 'Iris-versicolor']\n",
            " [5.6 2.5 3.9 1.1 'Iris-versicolor']\n",
            " [5.6 2.7 4.2 1.3 'Iris-versicolor']\n",
            " [5.6 2.9 3.6 1.3 'Iris-versicolor']\n",
            " [5.7 2.6 3.5 1.0 'Iris-versicolor']\n",
            " [5.7 2.9 4.2 1.3 'Iris-versicolor']\n",
            " [5.7 2.8 4.1 1.3 'Iris-versicolor']\n",
            " [5.7 4.4 1.5 0.4 'Iris-setosa']\n",
            " [5.7 2.8 4.5 1.3 'Iris-versicolor']\n",
            " [5.7 2.5 5.0 2.0 'Iris-virginica']\n",
            " [5.7 3.8 1.7 0.3 'Iris-setosa']\n",
            " [5.7 3.0 4.2 1.2 'Iris-versicolor']\n",
            " [5.8 2.7 4.1 1.0 'Iris-versicolor']\n",
            " [5.8 4.0 1.2 0.2 'Iris-setosa']\n",
            " [5.8 2.6 4.0 1.2 'Iris-versicolor']\n",
            " [5.8 2.8 5.1 2.4 'Iris-virginica']\n",
            " [5.8 2.7 5.1 1.9 'Iris-virginica']\n",
            " [5.8 2.7 3.9 1.2 'Iris-versicolor']\n",
            " [5.8 2.7 5.1 1.9 'Iris-virginica']\n",
            " [5.9 3.0 5.1 1.8 'Iris-virginica']\n",
            " [5.9 3.0 4.2 1.5 'Iris-versicolor']\n",
            " [5.9 3.2 4.8 1.8 'Iris-versicolor']\n",
            " [6.0 2.9 4.5 1.5 'Iris-versicolor']\n",
            " [6.0 2.7 5.1 1.6 'Iris-versicolor']\n",
            " [6.0 3.0 4.8 1.8 'Iris-virginica']\n",
            " [6.0 3.4 4.5 1.6 'Iris-versicolor']\n",
            " [6.0 2.2 4.0 1.0 'Iris-versicolor']\n",
            " [6.0 2.2 5.0 1.5 'Iris-virginica']\n",
            " [6.1 3.0 4.9 1.8 'Iris-virginica']\n",
            " [6.1 2.6 5.6 1.4 'Iris-virginica']\n",
            " [6.1 2.8 4.0 1.3 'Iris-versicolor']\n",
            " [6.1 2.9 4.7 1.4 'Iris-versicolor']\n",
            " [6.1 2.8 4.7 1.2 'Iris-versicolor']\n",
            " [6.1 3.0 4.6 1.4 'Iris-versicolor']\n",
            " [6.2 2.2 4.5 1.5 'Iris-versicolor']\n",
            " [6.2 2.9 4.3 1.3 'Iris-versicolor']\n",
            " [6.2 3.4 5.4 2.3 'Iris-virginica']\n",
            " [6.2 2.8 4.8 1.8 'Iris-virginica']\n",
            " [6.3 2.5 4.9 1.5 'Iris-versicolor']\n",
            " [6.3 2.7 4.9 1.8 'Iris-virginica']\n",
            " [6.3 2.5 5.0 1.9 'Iris-virginica']\n",
            " [6.3 3.3 4.7 1.6 'Iris-versicolor']\n",
            " [6.3 2.8 5.1 1.5 'Iris-virginica']\n",
            " [6.3 3.3 6.0 2.5 'Iris-virginica']\n",
            " [6.3 2.3 4.4 1.3 'Iris-versicolor']\n",
            " [6.3 3.4 5.6 2.4 'Iris-virginica']\n",
            " [6.3 2.9 5.6 1.8 'Iris-virginica']\n",
            " [6.4 2.8 5.6 2.2 'Iris-virginica']\n",
            " [6.4 2.8 5.6 2.1 'Iris-virginica']\n",
            " [6.4 3.1 5.5 1.8 'Iris-virginica']\n",
            " [6.4 3.2 4.5 1.5 'Iris-versicolor']\n",
            " [6.4 3.2 5.3 2.3 'Iris-virginica']\n",
            " [6.4 2.9 4.3 1.3 'Iris-versicolor']\n",
            " [6.4 2.7 5.3 1.9 'Iris-virginica']\n",
            " [6.5 3.0 5.8 2.2 'Iris-virginica']\n",
            " [6.5 3.0 5.5 1.8 'Iris-virginica']\n",
            " [6.5 3.0 5.2 2.0 'Iris-virginica']\n",
            " [6.5 2.8 4.6 1.5 'Iris-versicolor']\n",
            " [6.5 3.2 5.1 2.0 'Iris-virginica']\n",
            " [6.6 2.9 4.6 1.3 'Iris-versicolor']\n",
            " [6.6 3.0 4.4 1.4 'Iris-versicolor']\n",
            " [6.7 3.1 4.7 1.5 'Iris-versicolor']\n",
            " [6.7 3.1 5.6 2.4 'Iris-virginica']\n",
            " [6.7 2.5 5.8 1.8 'Iris-virginica']\n",
            " [6.7 3.0 5.0 1.7 'Iris-versicolor']\n",
            " [6.7 3.1 4.4 1.4 'Iris-versicolor']\n",
            " [6.7 3.3 5.7 2.5 'Iris-virginica']\n",
            " [6.7 3.0 5.2 2.3 'Iris-virginica']\n",
            " [6.7 3.3 5.7 2.1 'Iris-virginica']\n",
            " [6.8 3.2 5.9 2.3 'Iris-virginica']\n",
            " [6.8 2.8 4.8 1.4 'Iris-versicolor']\n",
            " [6.8 3.0 5.5 2.1 'Iris-virginica']\n",
            " [6.9 3.1 5.4 2.1 'Iris-virginica']\n",
            " [6.9 3.1 5.1 2.3 'Iris-virginica']\n",
            " [6.9 3.1 4.9 1.5 'Iris-versicolor']\n",
            " [6.9 3.2 5.7 2.3 'Iris-virginica']\n",
            " [7.0 3.2 4.7 1.4 'Iris-versicolor']\n",
            " [7.1 3.0 5.9 2.1 'Iris-virginica']\n",
            " [7.2 3.0 5.8 1.6 'Iris-virginica']\n",
            " [7.2 3.2 6.0 1.8 'Iris-virginica']\n",
            " [7.2 3.6 6.1 2.5 'Iris-virginica']\n",
            " [7.3 2.9 6.3 1.8 'Iris-virginica']\n",
            " [7.4 2.8 6.1 1.9 'Iris-virginica']\n",
            " [7.6 3.0 6.6 2.1 'Iris-virginica']\n",
            " [7.7 2.8 6.7 2.0 'Iris-virginica']\n",
            " [7.7 2.6 6.9 2.3 'Iris-virginica']\n",
            " [7.7 3.8 6.7 2.2 'Iris-virginica']\n",
            " [7.7 3.0 6.1 2.3 'Iris-virginica']\n",
            " [7.9 3.8 6.4 2.0 'Iris-virginica']]\n"
          ]
        }
      ]
    },
    {
      "cell_type": "markdown",
      "source": [
        "Transpose the dataset:"
      ],
      "metadata": {
        "id": "kcuMg66iBCE4"
      }
    },
    {
      "cell_type": "code",
      "source": [
        "transposed_data = np.transpose(data)\n",
        "print(\"Transposed Data:\", transposed_data)\n"
      ],
      "metadata": {
        "colab": {
          "base_uri": "https://localhost:8080/"
        },
        "id": "WC_thR7MA-W4",
        "outputId": "4cf08668-80fe-4998-f21e-913ea1a0aa7e"
      },
      "execution_count": null,
      "outputs": [
        {
          "output_type": "stream",
          "name": "stdout",
          "text": [
            "Transposed Data: [[5.1 4.9 4.7 4.6 5.0 5.4 4.6 5.0 4.4 4.9 5.4 4.8 4.8 4.3 5.8 5.7 5.4 5.1\n",
            "  5.7 5.1 5.4 5.1 4.6 5.1 4.8 5.0 5.0 5.2 5.2 4.7 4.8 5.4 5.2 5.5 4.9 5.0\n",
            "  5.5 4.9 4.4 5.1 5.0 4.5 4.4 5.0 5.1 4.8 5.1 4.6 5.3 5.0 7.0 6.4 6.9 5.5\n",
            "  6.5 5.7 6.3 4.9 6.6 5.2 5.0 5.9 6.0 6.1 5.6 6.7 5.6 5.8 6.2 5.6 5.9 6.1\n",
            "  6.3 6.1 6.4 6.6 6.8 6.7 6.0 5.7 5.5 5.5 5.8 6.0 5.4 6.0 6.7 6.3 5.6 5.5\n",
            "  5.5 6.1 5.8 5.0 5.6 5.7 5.7 6.2 5.1 5.7 6.3 5.8 7.1 6.3 6.5 7.6 4.9 7.3\n",
            "  6.7 7.2 6.5 6.4 6.8 5.7 5.8 6.4 6.5 7.7 7.7 6.0 6.9 5.6 7.7 6.3 6.7 7.2\n",
            "  6.2 6.1 6.4 7.2 7.4 7.9 6.4 6.3 6.1 7.7 6.3 6.4 6.0 6.9 6.7 6.9 5.8 6.8\n",
            "  6.7 6.7 6.3 6.5 6.2 5.9]\n",
            " [3.5 3.0 3.2 3.1 3.6 3.9 3.4 3.4 2.9 3.1 3.7 3.4 3.0 3.0 4.0 4.4 3.9 3.5\n",
            "  3.8 3.8 3.4 3.7 3.6 3.3 3.4 3.0 3.4 3.5 3.4 3.2 3.1 3.4 4.1 4.2 3.1 3.2\n",
            "  3.5 3.1 3.0 3.4 3.5 2.3 3.2 3.5 3.8 3.0 3.8 3.2 3.7 3.3 3.2 3.2 3.1 2.3\n",
            "  2.8 2.8 3.3 2.4 2.9 2.7 2.0 3.0 2.2 2.9 2.9 3.1 3.0 2.7 2.2 2.5 3.2 2.8\n",
            "  2.5 2.8 2.9 3.0 2.8 3.0 2.9 2.6 2.4 2.4 2.7 2.7 3.0 3.4 3.1 2.3 3.0 2.5\n",
            "  2.6 3.0 2.6 2.3 2.7 3.0 2.9 2.9 2.5 2.8 3.3 2.7 3.0 2.9 3.0 3.0 2.5 2.9\n",
            "  2.5 3.6 3.2 2.7 3.0 2.5 2.8 3.2 3.0 3.8 2.6 2.2 3.2 2.8 2.8 2.7 3.3 3.2\n",
            "  2.8 3.0 2.8 3.0 2.8 3.8 2.8 2.8 2.6 3.0 3.4 3.1 3.0 3.1 3.1 3.1 2.7 3.2\n",
            "  3.3 3.0 2.5 3.0 3.4 3.0]\n",
            " [1.4 1.4 1.3 1.5 1.4 1.7 1.4 1.5 1.4 1.5 1.5 1.6 1.4 1.1 1.2 1.5 1.3 1.4\n",
            "  1.7 1.5 1.7 1.5 1.0 1.7 1.9 1.6 1.6 1.5 1.4 1.6 1.6 1.5 1.5 1.4 1.5 1.2\n",
            "  1.3 1.5 1.3 1.5 1.3 1.3 1.3 1.6 1.9 1.4 1.6 1.4 1.5 1.4 4.7 4.5 4.9 4.0\n",
            "  4.6 4.5 4.7 3.3 4.6 3.9 3.5 4.2 4.0 4.7 3.6 4.4 4.5 4.1 4.5 3.9 4.8 4.0\n",
            "  4.9 4.7 4.3 4.4 4.8 5.0 4.5 3.5 3.8 3.7 3.9 5.1 4.5 4.5 4.7 4.4 4.1 4.0\n",
            "  4.4 4.6 4.0 3.3 4.2 4.2 4.2 4.3 3.0 4.1 6.0 5.1 5.9 5.6 5.8 6.6 4.5 6.3\n",
            "  5.8 6.1 5.1 5.3 5.5 5.0 5.1 5.3 5.5 6.7 6.9 5.0 5.7 4.9 6.7 4.9 5.7 6.0\n",
            "  4.8 4.9 5.6 5.8 6.1 6.4 5.6 5.1 5.6 6.1 5.6 5.5 4.8 5.4 5.6 5.1 5.1 5.9\n",
            "  5.7 5.2 5.0 5.2 5.4 5.1]\n",
            " [0.2 0.2 0.2 0.2 0.2 0.4 0.3 0.2 0.2 0.1 0.2 0.2 0.1 0.1 0.2 0.4 0.4 0.3\n",
            "  0.3 0.3 0.2 0.4 0.2 0.5 0.2 0.2 0.4 0.2 0.2 0.2 0.2 0.4 0.1 0.2 0.1 0.2\n",
            "  0.2 0.1 0.2 0.2 0.3 0.3 0.2 0.6 0.4 0.3 0.2 0.2 0.2 0.2 1.4 1.5 1.5 1.3\n",
            "  1.5 1.3 1.6 1.0 1.3 1.4 1.0 1.5 1.0 1.4 1.3 1.4 1.5 1.0 1.5 1.1 1.8 1.3\n",
            "  1.5 1.2 1.3 1.4 1.4 1.7 1.5 1.0 1.1 1.0 1.2 1.6 1.5 1.6 1.5 1.3 1.3 1.3\n",
            "  1.2 1.4 1.2 1.0 1.3 1.2 1.3 1.3 1.1 1.3 2.5 1.9 2.1 1.8 2.2 2.1 1.7 1.8\n",
            "  1.8 2.5 2.0 1.9 2.1 2.0 2.4 2.3 1.8 2.2 2.3 1.5 2.3 2.0 2.0 1.8 2.1 1.8\n",
            "  1.8 1.8 2.1 1.6 1.9 2.0 2.2 1.5 1.4 2.3 2.4 1.8 1.8 2.1 2.4 2.3 1.9 2.3\n",
            "  2.5 2.3 1.9 2.0 2.3 1.8]\n",
            " ['Iris-setosa' 'Iris-setosa' 'Iris-setosa' 'Iris-setosa' 'Iris-setosa'\n",
            "  'Iris-setosa' 'Iris-setosa' 'Iris-setosa' 'Iris-setosa' 'Iris-setosa'\n",
            "  'Iris-setosa' 'Iris-setosa' 'Iris-setosa' 'Iris-setosa' 'Iris-setosa'\n",
            "  'Iris-setosa' 'Iris-setosa' 'Iris-setosa' 'Iris-setosa' 'Iris-setosa'\n",
            "  'Iris-setosa' 'Iris-setosa' 'Iris-setosa' 'Iris-setosa' 'Iris-setosa'\n",
            "  'Iris-setosa' 'Iris-setosa' 'Iris-setosa' 'Iris-setosa' 'Iris-setosa'\n",
            "  'Iris-setosa' 'Iris-setosa' 'Iris-setosa' 'Iris-setosa' 'Iris-setosa'\n",
            "  'Iris-setosa' 'Iris-setosa' 'Iris-setosa' 'Iris-setosa' 'Iris-setosa'\n",
            "  'Iris-setosa' 'Iris-setosa' 'Iris-setosa' 'Iris-setosa' 'Iris-setosa'\n",
            "  'Iris-setosa' 'Iris-setosa' 'Iris-setosa' 'Iris-setosa' 'Iris-setosa'\n",
            "  'Iris-versicolor' 'Iris-versicolor' 'Iris-versicolor' 'Iris-versicolor'\n",
            "  'Iris-versicolor' 'Iris-versicolor' 'Iris-versicolor' 'Iris-versicolor'\n",
            "  'Iris-versicolor' 'Iris-versicolor' 'Iris-versicolor' 'Iris-versicolor'\n",
            "  'Iris-versicolor' 'Iris-versicolor' 'Iris-versicolor' 'Iris-versicolor'\n",
            "  'Iris-versicolor' 'Iris-versicolor' 'Iris-versicolor' 'Iris-versicolor'\n",
            "  'Iris-versicolor' 'Iris-versicolor' 'Iris-versicolor' 'Iris-versicolor'\n",
            "  'Iris-versicolor' 'Iris-versicolor' 'Iris-versicolor' 'Iris-versicolor'\n",
            "  'Iris-versicolor' 'Iris-versicolor' 'Iris-versicolor' 'Iris-versicolor'\n",
            "  'Iris-versicolor' 'Iris-versicolor' 'Iris-versicolor' 'Iris-versicolor'\n",
            "  'Iris-versicolor' 'Iris-versicolor' 'Iris-versicolor' 'Iris-versicolor'\n",
            "  'Iris-versicolor' 'Iris-versicolor' 'Iris-versicolor' 'Iris-versicolor'\n",
            "  'Iris-versicolor' 'Iris-versicolor' 'Iris-versicolor' 'Iris-versicolor'\n",
            "  'Iris-versicolor' 'Iris-versicolor' 'Iris-virginica' 'Iris-virginica'\n",
            "  'Iris-virginica' 'Iris-virginica' 'Iris-virginica' 'Iris-virginica'\n",
            "  'Iris-virginica' 'Iris-virginica' 'Iris-virginica' 'Iris-virginica'\n",
            "  'Iris-virginica' 'Iris-virginica' 'Iris-virginica' 'Iris-virginica'\n",
            "  'Iris-virginica' 'Iris-virginica' 'Iris-virginica' 'Iris-virginica'\n",
            "  'Iris-virginica' 'Iris-virginica' 'Iris-virginica' 'Iris-virginica'\n",
            "  'Iris-virginica' 'Iris-virginica' 'Iris-virginica' 'Iris-virginica'\n",
            "  'Iris-virginica' 'Iris-virginica' 'Iris-virginica' 'Iris-virginica'\n",
            "  'Iris-virginica' 'Iris-virginica' 'Iris-virginica' 'Iris-virginica'\n",
            "  'Iris-virginica' 'Iris-virginica' 'Iris-virginica' 'Iris-virginica'\n",
            "  'Iris-virginica' 'Iris-virginica' 'Iris-virginica' 'Iris-virginica'\n",
            "  'Iris-virginica' 'Iris-virginica' 'Iris-virginica' 'Iris-virginica'\n",
            "  'Iris-virginica' 'Iris-virginica' 'Iris-virginica' 'Iris-virginica']]\n"
          ]
        }
      ]
    },
    {
      "cell_type": "markdown",
      "source": [
        "Compute the dot product of the first two columns:"
      ],
      "metadata": {
        "id": "gOzU9wwtBMs3"
      }
    },
    {
      "cell_type": "code",
      "source": [
        "dot_product = np.dot(data[:, 0], data[:, 1])\n",
        "print(\"Dot Product:\", dot_product)\n"
      ],
      "metadata": {
        "colab": {
          "base_uri": "https://localhost:8080/"
        },
        "id": "hnK7JXZuBEHf",
        "outputId": "2ff268db-f24d-4e54-920a-c91d4e77547a"
      },
      "execution_count": null,
      "outputs": [
        {
          "output_type": "stream",
          "name": "stdout",
          "text": [
            "Dot Product: 2670.9800000000005\n"
          ]
        }
      ]
    },
    {
      "cell_type": "markdown",
      "source": [
        "Generate a random sample of 10 rows from the dataset:"
      ],
      "metadata": {
        "id": "FLk-w103BUyY"
      }
    },
    {
      "cell_type": "code",
      "source": [
        "random_sample = np.random.choice(data.shape[0], 10, replace=False)\n",
        "sample_data = data[random_sample]\n",
        "print(\"Random Sample:\", sample_data)\n"
      ],
      "metadata": {
        "colab": {
          "base_uri": "https://localhost:8080/"
        },
        "id": "fUDiyzERBOjo",
        "outputId": "f38fd4bc-ebe1-4252-ce89-801c610da164"
      },
      "execution_count": null,
      "outputs": [
        {
          "output_type": "stream",
          "name": "stdout",
          "text": [
            "Random Sample: [[6.9 3.1 4.9 1.5 'Iris-versicolor']\n",
            " [7.2 3.0 5.8 1.6 'Iris-virginica']\n",
            " [6.7 2.5 5.8 1.8 'Iris-virginica']\n",
            " [6.4 2.9 4.3 1.3 'Iris-versicolor']\n",
            " [5.4 3.0 4.5 1.5 'Iris-versicolor']\n",
            " [4.8 3.4 1.9 0.2 'Iris-setosa']\n",
            " [5.4 3.4 1.5 0.4 'Iris-setosa']\n",
            " [6.1 3.0 4.9 1.8 'Iris-virginica']\n",
            " [5.1 3.7 1.5 0.4 'Iris-setosa']\n",
            " [5.1 3.4 1.5 0.2 'Iris-setosa']]\n"
          ]
        }
      ]
    },
    {
      "cell_type": "markdown",
      "source": [
        "Normalize the sepal width:"
      ],
      "metadata": {
        "id": "uvqhROi6BbTg"
      }
    },
    {
      "cell_type": "code",
      "source": [
        "sepal_width = data[:, 1]\n",
        "normalized_sepal_width = (sepal_width - np.min(sepal_width)) / (np.max(sepal_width) - np.min(sepal_width))\n",
        "print(\"Normalized Sepal Width:\", normalized_sepal_width)\n"
      ],
      "metadata": {
        "colab": {
          "base_uri": "https://localhost:8080/"
        },
        "id": "srDeETiIBW6p",
        "outputId": "98f27c4d-3023-4a05-94f2-3e8cf9928088"
      },
      "execution_count": null,
      "outputs": [
        {
          "output_type": "stream",
          "name": "stdout",
          "text": [
            "Normalized Sepal Width: [0.6249999999999999 0.41666666666666663 0.5 0.4583333333333333\n",
            " 0.6666666666666666 0.7916666666666665 0.5833333333333333\n",
            " 0.5833333333333333 0.3749999999999999 0.4583333333333333\n",
            " 0.7083333333333333 0.5833333333333333 0.41666666666666663\n",
            " 0.41666666666666663 0.8333333333333333 1.0 0.7916666666666665\n",
            " 0.6249999999999999 0.7499999999999998 0.7499999999999998\n",
            " 0.5833333333333333 0.7083333333333333 0.6666666666666666\n",
            " 0.5416666666666665 0.5833333333333333 0.41666666666666663\n",
            " 0.5833333333333333 0.6249999999999999 0.5833333333333333 0.5\n",
            " 0.4583333333333333 0.5833333333333333 0.8749999999999998\n",
            " 0.9166666666666666 0.4583333333333333 0.5 0.6249999999999999\n",
            " 0.4583333333333333 0.41666666666666663 0.5833333333333333\n",
            " 0.6249999999999999 0.1249999999999999 0.5 0.6249999999999999\n",
            " 0.7499999999999998 0.41666666666666663 0.7499999999999998 0.5\n",
            " 0.7083333333333333 0.5416666666666665 0.5 0.5 0.4583333333333333\n",
            " 0.1249999999999999 0.3333333333333332 0.3333333333333332\n",
            " 0.5416666666666665 0.1666666666666666 0.3749999999999999\n",
            " 0.2916666666666667 0.0 0.41666666666666663 0.0833333333333334\n",
            " 0.3749999999999999 0.3749999999999999 0.4583333333333333\n",
            " 0.41666666666666663 0.2916666666666667 0.0833333333333334\n",
            " 0.20833333333333331 0.5 0.3333333333333332 0.20833333333333331\n",
            " 0.3333333333333332 0.3749999999999999 0.41666666666666663\n",
            " 0.3333333333333332 0.41666666666666663 0.3749999999999999 0.25\n",
            " 0.1666666666666666 0.1666666666666666 0.2916666666666667\n",
            " 0.2916666666666667 0.41666666666666663 0.5833333333333333\n",
            " 0.4583333333333333 0.1249999999999999 0.41666666666666663\n",
            " 0.20833333333333331 0.25 0.41666666666666663 0.25 0.1249999999999999\n",
            " 0.2916666666666667 0.41666666666666663 0.3749999999999999\n",
            " 0.3749999999999999 0.20833333333333331 0.3333333333333332\n",
            " 0.5416666666666665 0.2916666666666667 0.41666666666666663\n",
            " 0.3749999999999999 0.41666666666666663 0.41666666666666663\n",
            " 0.20833333333333331 0.3749999999999999 0.20833333333333331\n",
            " 0.6666666666666666 0.5 0.2916666666666667 0.41666666666666663\n",
            " 0.20833333333333331 0.3333333333333332 0.5 0.41666666666666663\n",
            " 0.7499999999999998 0.25 0.0833333333333334 0.5 0.3333333333333332\n",
            " 0.3333333333333332 0.2916666666666667 0.5416666666666665 0.5\n",
            " 0.3333333333333332 0.41666666666666663 0.3333333333333332\n",
            " 0.41666666666666663 0.3333333333333332 0.7499999999999998\n",
            " 0.3333333333333332 0.3333333333333332 0.25 0.41666666666666663\n",
            " 0.5833333333333333 0.4583333333333333 0.41666666666666663\n",
            " 0.4583333333333333 0.4583333333333333 0.4583333333333333\n",
            " 0.2916666666666667 0.5 0.5416666666666665 0.41666666666666663\n",
            " 0.20833333333333331 0.41666666666666663 0.5833333333333333\n",
            " 0.41666666666666663]\n"
          ]
        }
      ]
    },
    {
      "cell_type": "markdown",
      "source": [
        "Compute the covariance matrix of the dataset:"
      ],
      "metadata": {
        "id": "8vDhQxWEBf9w"
      }
    },
    {
      "cell_type": "code",
      "source": [
        "cov_matrix = np.cov(data[:, :4].astype(float), rowvar=False)\n",
        "print(\"Covariance Matrix:\\n\", cov_matrix)\n"
      ],
      "metadata": {
        "colab": {
          "base_uri": "https://localhost:8080/"
        },
        "id": "jtU0v3UoBdvo",
        "outputId": "31e7fcb7-d4e3-442d-93a2-ff834035486b"
      },
      "execution_count": null,
      "outputs": [
        {
          "output_type": "stream",
          "name": "stdout",
          "text": [
            "Covariance Matrix:\n",
            " [[ 0.68569351 -0.03926846  1.27368233  0.5169038 ]\n",
            " [-0.03926846  0.18800403 -0.32171275 -0.11798121]\n",
            " [ 1.27368233 -0.32171275  3.11317942  1.29638747]\n",
            " [ 0.5169038  -0.11798121  1.29638747  0.58241432]]\n"
          ]
        }
      ]
    },
    {
      "cell_type": "markdown",
      "source": [
        "Perform element-wise multiplication of the first two columns:"
      ],
      "metadata": {
        "id": "hpMjPAO9BmX4"
      }
    },
    {
      "cell_type": "code",
      "source": [
        "element_wise_product = np.multiply(data[:, 0].astype(float), data[:, 1].astype(float))\n",
        "print(\"Element-wise Multiplication:\", element_wise_product)\n"
      ],
      "metadata": {
        "colab": {
          "base_uri": "https://localhost:8080/"
        },
        "id": "lB74iC6LBhgg",
        "outputId": "79c39e26-8f94-433e-a303-85115c150f82"
      },
      "execution_count": null,
      "outputs": [
        {
          "output_type": "stream",
          "name": "stdout",
          "text": [
            "Element-wise Multiplication: [17.85 14.7  15.04 14.26 18.   21.06 15.64 17.   12.76 15.19 19.98 16.32\n",
            " 14.4  12.9  23.2  25.08 21.06 17.85 21.66 19.38 18.36 18.87 16.56 16.83\n",
            " 16.32 15.   17.   18.2  17.68 15.04 14.88 18.36 21.32 23.1  15.19 16.\n",
            " 19.25 15.19 13.2  17.34 17.5  10.35 14.08 17.5  19.38 14.4  19.38 14.72\n",
            " 19.61 16.5  22.4  20.48 21.39 12.65 18.2  15.96 20.79 11.76 19.14 14.04\n",
            " 10.   17.7  13.2  17.69 16.24 20.77 16.8  15.66 13.64 14.   18.88 17.08\n",
            " 15.75 17.08 18.56 19.8  19.04 20.1  17.4  14.82 13.2  13.2  15.66 16.2\n",
            " 16.2  20.4  20.77 14.49 16.8  13.75 14.3  18.3  15.08 11.5  15.12 17.1\n",
            " 16.53 17.98 12.75 15.96 20.79 15.66 21.3  18.27 19.5  22.8  12.25 21.17\n",
            " 16.75 25.92 20.8  17.28 20.4  14.25 16.24 20.48 19.5  29.26 20.02 13.2\n",
            " 22.08 15.68 21.56 17.01 22.11 23.04 17.36 18.3  17.92 21.6  20.72 30.02\n",
            " 17.92 17.64 15.86 23.1  21.42 19.84 18.   21.39 20.77 21.39 15.66 21.76\n",
            " 22.11 20.1  15.75 19.5  21.08 17.7 ]\n"
          ]
        }
      ]
    },
    {
      "cell_type": "markdown",
      "source": [
        "Apply a custom function to each element of a column:"
      ],
      "metadata": {
        "id": "HUmDDEvcBu9n"
      }
    },
    {
      "cell_type": "code",
      "source": [
        "def custom_function(x):\n",
        "    return x**2\n",
        "\n",
        "custom_applied = custom_function(data[:, 2].astype(float))\n",
        "print(\"Custom Function Applied:\", custom_applied)\n"
      ],
      "metadata": {
        "colab": {
          "base_uri": "https://localhost:8080/"
        },
        "id": "DoSgNpoNBn2X",
        "outputId": "1dd0cc07-891b-414d-d8c9-696ff00c7d03"
      },
      "execution_count": null,
      "outputs": [
        {
          "output_type": "stream",
          "name": "stdout",
          "text": [
            "Custom Function Applied: [ 1.96  1.96  1.69  2.25  1.96  2.89  1.96  2.25  1.96  2.25  2.25  2.56\n",
            "  1.96  1.21  1.44  2.25  1.69  1.96  2.89  2.25  2.89  2.25  1.    2.89\n",
            "  3.61  2.56  2.56  2.25  1.96  2.56  2.56  2.25  2.25  1.96  2.25  1.44\n",
            "  1.69  2.25  1.69  2.25  1.69  1.69  1.69  2.56  3.61  1.96  2.56  1.96\n",
            "  2.25  1.96 22.09 20.25 24.01 16.   21.16 20.25 22.09 10.89 21.16 15.21\n",
            " 12.25 17.64 16.   22.09 12.96 19.36 20.25 16.81 20.25 15.21 23.04 16.\n",
            " 24.01 22.09 18.49 19.36 23.04 25.   20.25 12.25 14.44 13.69 15.21 26.01\n",
            " 20.25 20.25 22.09 19.36 16.81 16.   19.36 21.16 16.   10.89 17.64 17.64\n",
            " 17.64 18.49  9.   16.81 36.   26.01 34.81 31.36 33.64 43.56 20.25 39.69\n",
            " 33.64 37.21 26.01 28.09 30.25 25.   26.01 28.09 30.25 44.89 47.61 25.\n",
            " 32.49 24.01 44.89 24.01 32.49 36.   23.04 24.01 31.36 33.64 37.21 40.96\n",
            " 31.36 26.01 31.36 37.21 31.36 30.25 23.04 29.16 31.36 26.01 26.01 34.81\n",
            " 32.49 27.04 25.   27.04 29.16 26.01]\n"
          ]
        }
      ]
    },
    {
      "cell_type": "markdown",
      "source": [
        "Compute the eigenvalues and eigenvectors of the covariance matrix:"
      ],
      "metadata": {
        "id": "324BGNcDB33A"
      }
    },
    {
      "cell_type": "code",
      "source": [
        "eigenvalues, eigenvectors = np.linalg.eig(cov_matrix)\n",
        "print(\"Eigenvalues:\\n\", eigenvalues)\n",
        "print(\"Eigenvectors:\\n\", eigenvectors)\n"
      ],
      "metadata": {
        "colab": {
          "base_uri": "https://localhost:8080/"
        },
        "id": "Ua5uzGglByDQ",
        "outputId": "980d7eba-7254-4d3b-aab1-a9f083553286"
      },
      "execution_count": null,
      "outputs": [
        {
          "output_type": "stream",
          "name": "stdout",
          "text": [
            "Eigenvalues:\n",
            " [4.22484077 0.24224357 0.07852391 0.02368303]\n",
            "Eigenvectors:\n",
            " [[ 0.36158968 -0.65653988 -0.58099728  0.31725455]\n",
            " [-0.08226889 -0.72971237  0.59641809 -0.32409435]\n",
            " [ 0.85657211  0.1757674   0.07252408 -0.47971899]\n",
            " [ 0.35884393  0.07470647  0.54906091  0.75112056]]\n"
          ]
        }
      ]
    },
    {
      "cell_type": "markdown",
      "source": [
        "Filter the dataset for rows where the petal width is greater than the average:"
      ],
      "metadata": {
        "id": "PkbOytEjB_5P"
      }
    },
    {
      "cell_type": "code",
      "source": [
        "average_petal_width = np.mean(petal_width)\n",
        "filtered_data = data[data[:, 3].astype(float) > average_petal_width]\n",
        "print(\"Filtered Data:\\n\", filtered_data)\n"
      ],
      "metadata": {
        "colab": {
          "base_uri": "https://localhost:8080/"
        },
        "id": "wEKHm78YB5W_",
        "outputId": "76523ff2-3289-4aef-9046-e90216b76882"
      },
      "execution_count": null,
      "outputs": [
        {
          "output_type": "stream",
          "name": "stdout",
          "text": [
            "Filtered Data:\n",
            " [[7.0 3.2 4.7 1.4 'Iris-versicolor']\n",
            " [6.4 3.2 4.5 1.5 'Iris-versicolor']\n",
            " [6.9 3.1 4.9 1.5 'Iris-versicolor']\n",
            " [5.5 2.3 4.0 1.3 'Iris-versicolor']\n",
            " [6.5 2.8 4.6 1.5 'Iris-versicolor']\n",
            " [5.7 2.8 4.5 1.3 'Iris-versicolor']\n",
            " [6.3 3.3 4.7 1.6 'Iris-versicolor']\n",
            " [6.6 2.9 4.6 1.3 'Iris-versicolor']\n",
            " [5.2 2.7 3.9 1.4 'Iris-versicolor']\n",
            " [5.9 3.0 4.2 1.5 'Iris-versicolor']\n",
            " [6.1 2.9 4.7 1.4 'Iris-versicolor']\n",
            " [5.6 2.9 3.6 1.3 'Iris-versicolor']\n",
            " [6.7 3.1 4.4 1.4 'Iris-versicolor']\n",
            " [5.6 3.0 4.5 1.5 'Iris-versicolor']\n",
            " [6.2 2.2 4.5 1.5 'Iris-versicolor']\n",
            " [5.9 3.2 4.8 1.8 'Iris-versicolor']\n",
            " [6.1 2.8 4.0 1.3 'Iris-versicolor']\n",
            " [6.3 2.5 4.9 1.5 'Iris-versicolor']\n",
            " [6.1 2.8 4.7 1.2 'Iris-versicolor']\n",
            " [6.4 2.9 4.3 1.3 'Iris-versicolor']\n",
            " [6.6 3.0 4.4 1.4 'Iris-versicolor']\n",
            " [6.8 2.8 4.8 1.4 'Iris-versicolor']\n",
            " [6.7 3.0 5.0 1.7 'Iris-versicolor']\n",
            " [6.0 2.9 4.5 1.5 'Iris-versicolor']\n",
            " [5.8 2.7 3.9 1.2 'Iris-versicolor']\n",
            " [6.0 2.7 5.1 1.6 'Iris-versicolor']\n",
            " [5.4 3.0 4.5 1.5 'Iris-versicolor']\n",
            " [6.0 3.4 4.5 1.6 'Iris-versicolor']\n",
            " [6.7 3.1 4.7 1.5 'Iris-versicolor']\n",
            " [6.3 2.3 4.4 1.3 'Iris-versicolor']\n",
            " [5.6 3.0 4.1 1.3 'Iris-versicolor']\n",
            " [5.5 2.5 4.0 1.3 'Iris-versicolor']\n",
            " [5.5 2.6 4.4 1.2 'Iris-versicolor']\n",
            " [6.1 3.0 4.6 1.4 'Iris-versicolor']\n",
            " [5.8 2.6 4.0 1.2 'Iris-versicolor']\n",
            " [5.6 2.7 4.2 1.3 'Iris-versicolor']\n",
            " [5.7 3.0 4.2 1.2 'Iris-versicolor']\n",
            " [5.7 2.9 4.2 1.3 'Iris-versicolor']\n",
            " [6.2 2.9 4.3 1.3 'Iris-versicolor']\n",
            " [5.7 2.8 4.1 1.3 'Iris-versicolor']\n",
            " [6.3 3.3 6.0 2.5 'Iris-virginica']\n",
            " [5.8 2.7 5.1 1.9 'Iris-virginica']\n",
            " [7.1 3.0 5.9 2.1 'Iris-virginica']\n",
            " [6.3 2.9 5.6 1.8 'Iris-virginica']\n",
            " [6.5 3.0 5.8 2.2 'Iris-virginica']\n",
            " [7.6 3.0 6.6 2.1 'Iris-virginica']\n",
            " [4.9 2.5 4.5 1.7 'Iris-virginica']\n",
            " [7.3 2.9 6.3 1.8 'Iris-virginica']\n",
            " [6.7 2.5 5.8 1.8 'Iris-virginica']\n",
            " [7.2 3.6 6.1 2.5 'Iris-virginica']\n",
            " [6.5 3.2 5.1 2.0 'Iris-virginica']\n",
            " [6.4 2.7 5.3 1.9 'Iris-virginica']\n",
            " [6.8 3.0 5.5 2.1 'Iris-virginica']\n",
            " [5.7 2.5 5.0 2.0 'Iris-virginica']\n",
            " [5.8 2.8 5.1 2.4 'Iris-virginica']\n",
            " [6.4 3.2 5.3 2.3 'Iris-virginica']\n",
            " [6.5 3.0 5.5 1.8 'Iris-virginica']\n",
            " [7.7 3.8 6.7 2.2 'Iris-virginica']\n",
            " [7.7 2.6 6.9 2.3 'Iris-virginica']\n",
            " [6.0 2.2 5.0 1.5 'Iris-virginica']\n",
            " [6.9 3.2 5.7 2.3 'Iris-virginica']\n",
            " [5.6 2.8 4.9 2.0 'Iris-virginica']\n",
            " [7.7 2.8 6.7 2.0 'Iris-virginica']\n",
            " [6.3 2.7 4.9 1.8 'Iris-virginica']\n",
            " [6.7 3.3 5.7 2.1 'Iris-virginica']\n",
            " [7.2 3.2 6.0 1.8 'Iris-virginica']\n",
            " [6.2 2.8 4.8 1.8 'Iris-virginica']\n",
            " [6.1 3.0 4.9 1.8 'Iris-virginica']\n",
            " [6.4 2.8 5.6 2.1 'Iris-virginica']\n",
            " [7.2 3.0 5.8 1.6 'Iris-virginica']\n",
            " [7.4 2.8 6.1 1.9 'Iris-virginica']\n",
            " [7.9 3.8 6.4 2.0 'Iris-virginica']\n",
            " [6.4 2.8 5.6 2.2 'Iris-virginica']\n",
            " [6.3 2.8 5.1 1.5 'Iris-virginica']\n",
            " [6.1 2.6 5.6 1.4 'Iris-virginica']\n",
            " [7.7 3.0 6.1 2.3 'Iris-virginica']\n",
            " [6.3 3.4 5.6 2.4 'Iris-virginica']\n",
            " [6.4 3.1 5.5 1.8 'Iris-virginica']\n",
            " [6.0 3.0 4.8 1.8 'Iris-virginica']\n",
            " [6.9 3.1 5.4 2.1 'Iris-virginica']\n",
            " [6.7 3.1 5.6 2.4 'Iris-virginica']\n",
            " [6.9 3.1 5.1 2.3 'Iris-virginica']\n",
            " [5.8 2.7 5.1 1.9 'Iris-virginica']\n",
            " [6.8 3.2 5.9 2.3 'Iris-virginica']\n",
            " [6.7 3.3 5.7 2.5 'Iris-virginica']\n",
            " [6.7 3.0 5.2 2.3 'Iris-virginica']\n",
            " [6.3 2.5 5.0 1.9 'Iris-virginica']\n",
            " [6.5 3.0 5.2 2.0 'Iris-virginica']\n",
            " [6.2 3.4 5.4 2.3 'Iris-virginica']\n",
            " [5.9 3.0 5.1 1.8 'Iris-virginica']]\n"
          ]
        }
      ]
    },
    {
      "cell_type": "markdown",
      "source": [
        "Perform matrix multiplication between two parts of the dataset:"
      ],
      "metadata": {
        "id": "nguzx7QBCJJA"
      }
    },
    {
      "cell_type": "code",
      "source": [
        "matrix_product = np.dot(data[:, :2].astype(float), data[:, 2:4].astype(float).T)\n",
        "print(\"Matrix Multiplication Result:\\n\", matrix_product)\n"
      ],
      "metadata": {
        "colab": {
          "base_uri": "https://localhost:8080/"
        },
        "id": "to4gOS7BCCae",
        "outputId": "b7be9dc2-e30c-4642-bc1b-0bc4f215bfcd"
      },
      "execution_count": null,
      "outputs": [
        {
          "output_type": "stream",
          "name": "stdout",
          "text": [
            "Matrix Multiplication Result:\n",
            " [[ 7.84  7.84  7.33 ... 33.52 35.59 32.31]\n",
            " [ 7.46  7.46  6.97 ... 31.48 33.36 30.39]\n",
            " [ 7.22  7.22  6.75 ... 30.84 32.74 29.73]\n",
            " ...\n",
            " [ 9.7   9.7   9.05 ... 39.8  42.   38.55]\n",
            " [ 9.36  9.36  8.74 ... 39.04 41.3  37.74]\n",
            " [ 8.86  8.86  8.27 ... 36.68 38.76 35.49]]\n"
          ]
        }
      ]
    },
    {
      "cell_type": "markdown",
      "source": [
        "Generate a random permutation of the dataset:"
      ],
      "metadata": {
        "id": "hHphHz-ECOUQ"
      }
    },
    {
      "cell_type": "code",
      "source": [
        "random_permutation = np.random.permutation(data)\n",
        "print(\"Random Permutation:\\n\", random_permutation)\n"
      ],
      "metadata": {
        "colab": {
          "base_uri": "https://localhost:8080/"
        },
        "id": "23K0ZTwcCLA_",
        "outputId": "72b89335-7731-44c8-9711-4097a5a569de"
      },
      "execution_count": null,
      "outputs": [
        {
          "output_type": "stream",
          "name": "stdout",
          "text": [
            "Random Permutation:\n",
            " [[5.7 2.8 4.5 1.3 'Iris-versicolor']\n",
            " [5.7 2.6 3.5 1.0 'Iris-versicolor']\n",
            " [6.7 2.5 5.8 1.8 'Iris-virginica']\n",
            " [6.7 3.1 4.7 1.5 'Iris-versicolor']\n",
            " [6.3 3.3 4.7 1.6 'Iris-versicolor']\n",
            " [7.0 3.2 4.7 1.4 'Iris-versicolor']\n",
            " [6.3 3.4 5.6 2.4 'Iris-virginica']\n",
            " [4.8 3.4 1.6 0.2 'Iris-setosa']\n",
            " [5.0 3.5 1.3 0.3 'Iris-setosa']\n",
            " [5.0 2.3 3.3 1.0 'Iris-versicolor']\n",
            " [5.4 3.9 1.3 0.4 'Iris-setosa']\n",
            " [6.4 3.2 4.5 1.5 'Iris-versicolor']\n",
            " [4.9 2.5 4.5 1.7 'Iris-virginica']\n",
            " [5.1 3.5 1.4 0.3 'Iris-setosa']\n",
            " [5.2 2.7 3.9 1.4 'Iris-versicolor']\n",
            " [5.4 3.0 4.5 1.5 'Iris-versicolor']\n",
            " [5.0 3.3 1.4 0.2 'Iris-setosa']\n",
            " [5.5 3.5 1.3 0.2 'Iris-setosa']\n",
            " [7.7 3.0 6.1 2.3 'Iris-virginica']\n",
            " [6.5 2.8 4.6 1.5 'Iris-versicolor']\n",
            " [7.7 2.8 6.7 2.0 'Iris-virginica']\n",
            " [6.3 2.8 5.1 1.5 'Iris-virginica']\n",
            " [5.6 2.9 3.6 1.3 'Iris-versicolor']\n",
            " [5.2 4.1 1.5 0.1 'Iris-setosa']\n",
            " [6.7 3.1 5.6 2.4 'Iris-virginica']\n",
            " [6.4 2.9 4.3 1.3 'Iris-versicolor']\n",
            " [6.0 3.0 4.8 1.8 'Iris-virginica']\n",
            " [4.6 3.1 1.5 0.2 'Iris-setosa']\n",
            " [7.4 2.8 6.1 1.9 'Iris-virginica']\n",
            " [6.6 3.0 4.4 1.4 'Iris-versicolor']\n",
            " [4.5 2.3 1.3 0.3 'Iris-setosa']\n",
            " [5.1 2.5 3.0 1.1 'Iris-versicolor']\n",
            " [5.0 3.0 1.6 0.2 'Iris-setosa']\n",
            " [4.4 2.9 1.4 0.2 'Iris-setosa']\n",
            " [7.2 3.2 6.0 1.8 'Iris-virginica']\n",
            " [6.8 3.0 5.5 2.1 'Iris-virginica']\n",
            " [6.0 2.9 4.5 1.5 'Iris-versicolor']\n",
            " [5.5 2.6 4.4 1.2 'Iris-versicolor']\n",
            " [5.6 2.7 4.2 1.3 'Iris-versicolor']\n",
            " [6.8 2.8 4.8 1.4 'Iris-versicolor']\n",
            " [5.2 3.5 1.5 0.2 'Iris-setosa']\n",
            " [6.5 3.2 5.1 2.0 'Iris-virginica']\n",
            " [4.6 3.4 1.4 0.3 'Iris-setosa']\n",
            " [5.5 2.3 4.0 1.3 'Iris-versicolor']\n",
            " [5.8 4.0 1.2 0.2 'Iris-setosa']\n",
            " [5.7 2.8 4.1 1.3 'Iris-versicolor']\n",
            " [4.9 3.1 1.5 0.1 'Iris-setosa']\n",
            " [7.2 3.6 6.1 2.5 'Iris-virginica']\n",
            " [6.6 2.9 4.6 1.3 'Iris-versicolor']\n",
            " [6.4 3.2 5.3 2.3 'Iris-virginica']\n",
            " [6.7 3.3 5.7 2.5 'Iris-virginica']\n",
            " [6.9 3.2 5.7 2.3 'Iris-virginica']\n",
            " [6.2 2.9 4.3 1.3 'Iris-versicolor']\n",
            " [4.8 3.1 1.6 0.2 'Iris-setosa']\n",
            " [6.1 2.6 5.6 1.4 'Iris-virginica']\n",
            " [6.4 2.7 5.3 1.9 'Iris-virginica']\n",
            " [6.9 3.1 5.1 2.3 'Iris-virginica']\n",
            " [5.1 3.3 1.7 0.5 'Iris-setosa']\n",
            " [6.7 3.1 4.4 1.4 'Iris-versicolor']\n",
            " [6.4 2.8 5.6 2.1 'Iris-virginica']\n",
            " [6.0 3.4 4.5 1.6 'Iris-versicolor']\n",
            " [5.6 2.5 3.9 1.1 'Iris-versicolor']\n",
            " [7.7 2.6 6.9 2.3 'Iris-virginica']\n",
            " [5.1 3.8 1.5 0.3 'Iris-setosa']\n",
            " [5.4 3.4 1.7 0.2 'Iris-setosa']\n",
            " [5.8 2.7 5.1 1.9 'Iris-virginica']\n",
            " [5.8 2.7 3.9 1.2 'Iris-versicolor']\n",
            " [6.1 2.8 4.0 1.3 'Iris-versicolor']\n",
            " [5.1 3.8 1.6 0.2 'Iris-setosa']\n",
            " [5.7 3.0 4.2 1.2 'Iris-versicolor']\n",
            " [6.0 2.7 5.1 1.6 'Iris-versicolor']\n",
            " [5.0 3.4 1.6 0.4 'Iris-setosa']\n",
            " [6.2 2.2 4.5 1.5 'Iris-versicolor']\n",
            " [7.2 3.0 5.8 1.6 'Iris-virginica']\n",
            " [4.4 3.0 1.3 0.2 'Iris-setosa']\n",
            " [4.4 3.2 1.3 0.2 'Iris-setosa']\n",
            " [6.3 2.9 5.6 1.8 'Iris-virginica']\n",
            " [5.5 2.4 3.7 1.0 'Iris-versicolor']\n",
            " [5.7 4.4 1.5 0.4 'Iris-setosa']\n",
            " [5.3 3.7 1.5 0.2 'Iris-setosa']\n",
            " [6.1 3.0 4.6 1.4 'Iris-versicolor']\n",
            " [4.9 2.4 3.3 1.0 'Iris-versicolor']\n",
            " [5.9 3.2 4.8 1.8 'Iris-versicolor']\n",
            " [4.8 3.0 1.4 0.3 'Iris-setosa']\n",
            " [4.7 3.2 1.3 0.2 'Iris-setosa']\n",
            " [5.9 3.0 5.1 1.8 'Iris-virginica']\n",
            " [6.2 3.4 5.4 2.3 'Iris-virginica']\n",
            " [7.6 3.0 6.6 2.1 'Iris-virginica']\n",
            " [5.9 3.0 4.2 1.5 'Iris-versicolor']\n",
            " [6.5 3.0 5.5 1.8 'Iris-virginica']\n",
            " [5.4 3.4 1.5 0.4 'Iris-setosa']\n",
            " [5.0 2.0 3.5 1.0 'Iris-versicolor']\n",
            " [5.0 3.2 1.2 0.2 'Iris-setosa']\n",
            " [6.3 2.5 5.0 1.9 'Iris-virginica']\n",
            " [5.1 3.4 1.5 0.2 'Iris-setosa']\n",
            " [6.3 2.7 4.9 1.8 'Iris-virginica']\n",
            " [4.6 3.2 1.4 0.2 'Iris-setosa']\n",
            " [6.1 3.0 4.9 1.8 'Iris-virginica']\n",
            " [6.9 3.1 4.9 1.5 'Iris-versicolor']\n",
            " [5.7 2.9 4.2 1.3 'Iris-versicolor']\n",
            " [6.2 2.8 4.8 1.8 'Iris-virginica']\n",
            " [5.0 3.6 1.4 0.2 'Iris-setosa']\n",
            " [5.0 3.4 1.5 0.2 'Iris-setosa']\n",
            " [5.6 2.8 4.9 2.0 'Iris-virginica']\n",
            " [5.6 3.0 4.5 1.5 'Iris-versicolor']\n",
            " [5.7 2.5 5.0 2.0 'Iris-virginica']\n",
            " [5.5 2.5 4.0 1.3 'Iris-versicolor']\n",
            " [5.5 4.2 1.4 0.2 'Iris-setosa']\n",
            " [5.8 2.7 5.1 1.9 'Iris-virginica']\n",
            " [4.8 3.4 1.9 0.2 'Iris-setosa']\n",
            " [6.4 3.1 5.5 1.8 'Iris-virginica']\n",
            " [6.3 3.3 6.0 2.5 'Iris-virginica']\n",
            " [6.1 2.9 4.7 1.4 'Iris-versicolor']\n",
            " [6.5 3.0 5.2 2.0 'Iris-virginica']\n",
            " [4.7 3.2 1.6 0.2 'Iris-setosa']\n",
            " [6.0 2.2 5.0 1.5 'Iris-virginica']\n",
            " [5.6 3.0 4.1 1.3 'Iris-versicolor']\n",
            " [5.1 3.8 1.9 0.4 'Iris-setosa']\n",
            " [6.3 2.5 4.9 1.5 'Iris-versicolor']\n",
            " [6.0 2.2 4.0 1.0 'Iris-versicolor']\n",
            " [6.7 3.3 5.7 2.1 'Iris-virginica']\n",
            " [7.3 2.9 6.3 1.8 'Iris-virginica']\n",
            " [5.8 2.8 5.1 2.4 'Iris-virginica']\n",
            " [6.7 3.0 5.0 1.7 'Iris-versicolor']\n",
            " [4.6 3.6 1.0 0.2 'Iris-setosa']\n",
            " [7.7 3.8 6.7 2.2 'Iris-virginica']\n",
            " [5.2 3.4 1.4 0.2 'Iris-setosa']\n",
            " [6.3 2.3 4.4 1.3 'Iris-versicolor']\n",
            " [7.9 3.8 6.4 2.0 'Iris-virginica']\n",
            " [7.1 3.0 5.9 2.1 'Iris-virginica']\n",
            " [5.0 3.5 1.6 0.6 'Iris-setosa']\n",
            " [4.9 3.1 1.5 0.1 'Iris-setosa']\n",
            " [6.1 2.8 4.7 1.2 'Iris-versicolor']\n",
            " [4.3 3.0 1.1 0.1 'Iris-setosa']\n",
            " [4.9 3.1 1.5 0.1 'Iris-setosa']\n",
            " [5.4 3.9 1.7 0.4 'Iris-setosa']\n",
            " [6.5 3.0 5.8 2.2 'Iris-virginica']\n",
            " [6.4 2.8 5.6 2.2 'Iris-virginica']\n",
            " [5.4 3.7 1.5 0.2 'Iris-setosa']\n",
            " [6.9 3.1 5.4 2.1 'Iris-virginica']\n",
            " [5.1 3.7 1.5 0.4 'Iris-setosa']\n",
            " [5.8 2.7 4.1 1.0 'Iris-versicolor']\n",
            " [4.9 3.0 1.4 0.2 'Iris-setosa']\n",
            " [6.8 3.2 5.9 2.3 'Iris-virginica']\n",
            " [5.5 2.4 3.8 1.1 'Iris-versicolor']\n",
            " [5.1 3.5 1.4 0.2 'Iris-setosa']\n",
            " [5.8 2.6 4.0 1.2 'Iris-versicolor']\n",
            " [4.8 3.0 1.4 0.1 'Iris-setosa']\n",
            " [6.7 3.0 5.2 2.3 'Iris-virginica']\n",
            " [5.7 3.8 1.7 0.3 'Iris-setosa']]\n"
          ]
        }
      ]
    },
    {
      "cell_type": "markdown",
      "source": [
        "Find the unique values in the species column and count occurrences:"
      ],
      "metadata": {
        "id": "_ayrOM2_CR1n"
      }
    },
    {
      "cell_type": "code",
      "source": [
        "species = data[:, 4]\n",
        "unique_species, counts = np.unique(species, return_counts=True)\n",
        "print(\"Unique Species:\", unique_species)\n",
        "print(\"Counts:\", counts)\n"
      ],
      "metadata": {
        "colab": {
          "base_uri": "https://localhost:8080/"
        },
        "id": "gbaHdcjYCPl_",
        "outputId": "5b988434-7b38-4d6b-eb07-9dc6eca43a42"
      },
      "execution_count": null,
      "outputs": [
        {
          "output_type": "stream",
          "name": "stdout",
          "text": [
            "Unique Species: ['Iris-setosa' 'Iris-versicolor' 'Iris-virginica']\n",
            "Counts: [50 50 50]\n"
          ]
        }
      ]
    },
    {
      "cell_type": "markdown",
      "source": [
        "Create a histogram of the sepal lengths:"
      ],
      "metadata": {
        "id": "f7VnmC-BCWZf"
      }
    },
    {
      "cell_type": "code",
      "source": [
        "import matplotlib.pyplot as plt\n",
        "plt.hist(sepal_length, bins=10, edgecolor='black')\n",
        "plt.title('Histogram of Sepal Lengths')\n",
        "plt.xlabel('Sepal Length')\n",
        "plt.ylabel('Frequency')\n",
        "plt.show()\n"
      ],
      "metadata": {
        "colab": {
          "base_uri": "https://localhost:8080/",
          "height": 472
        },
        "id": "UAzTn7-JCUP3",
        "outputId": "ab72cfbe-e2ac-4878-ecef-6f5ecdd77ffd"
      },
      "execution_count": null,
      "outputs": [
        {
          "output_type": "display_data",
          "data": {
            "text/plain": [
              "<Figure size 640x480 with 1 Axes>"
            ],
            "image/png": "[encoded data removed]"
          },
          "metadata": {}
        }
      ]
    }
  ]
}