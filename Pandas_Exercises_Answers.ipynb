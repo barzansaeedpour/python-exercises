{
  "nbformat": 4,
  "nbformat_minor": 0,
  "metadata": {
    "colab": {
      "provenance": [],
      "authorship_tag": "ABX9TyM0tNp4lQE5Yla4OrGrxAjk",
      "include_colab_link": true
    },
    "kernelspec": {
      "name": "python3",
      "display_name": "Python 3"
    },
    "language_info": {
      "name": "python"
    }
  },
  "cells": [
    {
      "cell_type": "markdown",
      "metadata": {
        "id": "view-in-github",
        "colab_type": "text"
      },
      "source": [
        "<a href=\"https://colab.research.google.com/github/barzansaeedpour/python-exercises/blob/main/Pandas_Exercises_Answers.ipynb\" target=\"_parent\"><img src=\"https://colab.research.google.com/assets/colab-badge.svg\" alt=\"Open In Colab\"/></a>"
      ]
    },
    {
      "cell_type": "markdown",
      "source": [
        "## Dataset: Titanic Survival Dataset"
      ],
      "metadata": {
        "id": "KH_lPlGvcZ6p"
      }
    },
    {
      "cell_type": "markdown",
      "source": [
        "We'll use the Titanic dataset, which contains information about passengers on the Titanic, including whether they survived or not. You can download the dataset from this link."
      ],
      "metadata": {
        "id": "XIsO0FQBcdW_"
      }
    },
    {
      "cell_type": "markdown",
      "source": [
        "Load the Dataset"
      ],
      "metadata": {
        "id": "WZZtZptpcgiY"
      }
    },
    {
      "cell_type": "code",
      "execution_count": 23,
      "metadata": {
        "id": "XgO-USfAapLc"
      },
      "outputs": [],
      "source": [
        "import pandas as pd\n",
        "url = \"https://raw.githubusercontent.com/datasciencedojo/datasets/master/titanic.csv\"\n",
        "df = pd.read_csv(url)\n"
      ]
    },
    {
      "cell_type": "markdown",
      "source": [
        "Exercises"
      ],
      "metadata": {
        "id": "vHuTGLPxcksg"
      }
    },
    {
      "cell_type": "markdown",
      "source": [
        "Display the first 5 rows of the dataset:"
      ],
      "metadata": {
        "id": "Ju4yQrGWcouf"
      }
    },
    {
      "cell_type": "code",
      "source": [
        "print(df.head())"
      ],
      "metadata": {
        "colab": {
          "base_uri": "https://localhost:8080/"
        },
        "id": "vmV_ChpmckPf",
        "outputId": "dcd687b7-f53d-476d-8427-0f4b7d197abe"
      },
      "execution_count": 24,
      "outputs": [
        {
          "output_type": "stream",
          "name": "stdout",
          "text": [
            "   PassengerId  Survived  Pclass  \\\n",
            "0            1         0       3   \n",
            "1            2         1       1   \n",
            "2            3         1       3   \n",
            "3            4         1       1   \n",
            "4            5         0       3   \n",
            "\n",
            "                                                Name     Sex   Age  SibSp  \\\n",
            "0                            Braund, Mr. Owen Harris    male  22.0      1   \n",
            "1  Cumings, Mrs. John Bradley (Florence Briggs Th...  female  38.0      1   \n",
            "2                             Heikkinen, Miss. Laina  female  26.0      0   \n",
            "3       Futrelle, Mrs. Jacques Heath (Lily May Peel)  female  35.0      1   \n",
            "4                           Allen, Mr. William Henry    male  35.0      0   \n",
            "\n",
            "   Parch            Ticket     Fare Cabin Embarked  \n",
            "0      0         A/5 21171   7.2500   NaN        S  \n",
            "1      0          PC 17599  71.2833   C85        C  \n",
            "2      0  STON/O2. 3101282   7.9250   NaN        S  \n",
            "3      0            113803  53.1000  C123        S  \n",
            "4      0            373450   8.0500   NaN        S  \n"
          ]
        }
      ]
    },
    {
      "cell_type": "markdown",
      "source": [
        "Display the summary statistics of the dataset:"
      ],
      "metadata": {
        "id": "aSmdwm8kc0sf"
      }
    },
    {
      "cell_type": "code",
      "source": [
        "print(df.describe())\n"
      ],
      "metadata": {
        "colab": {
          "base_uri": "https://localhost:8080/"
        },
        "id": "6DDCAEVkce0H",
        "outputId": "01df578d-8570-49f0-d135-544af7566639"
      },
      "execution_count": 25,
      "outputs": [
        {
          "output_type": "stream",
          "name": "stdout",
          "text": [
            "       PassengerId    Survived      Pclass         Age       SibSp  \\\n",
            "count   891.000000  891.000000  891.000000  714.000000  891.000000   \n",
            "mean    446.000000    0.383838    2.308642   29.699118    0.523008   \n",
            "std     257.353842    0.486592    0.836071   14.526497    1.102743   \n",
            "min       1.000000    0.000000    1.000000    0.420000    0.000000   \n",
            "25%     223.500000    0.000000    2.000000   20.125000    0.000000   \n",
            "50%     446.000000    0.000000    3.000000   28.000000    0.000000   \n",
            "75%     668.500000    1.000000    3.000000   38.000000    1.000000   \n",
            "max     891.000000    1.000000    3.000000   80.000000    8.000000   \n",
            "\n",
            "            Parch        Fare  \n",
            "count  891.000000  891.000000  \n",
            "mean     0.381594   32.204208  \n",
            "std      0.806057   49.693429  \n",
            "min      0.000000    0.000000  \n",
            "25%      0.000000    7.910400  \n",
            "50%      0.000000   14.454200  \n",
            "75%      0.000000   31.000000  \n",
            "max      6.000000  512.329200  \n"
          ]
        }
      ]
    },
    {
      "cell_type": "markdown",
      "source": [
        "Find the number of passengers who survived and who didn't:"
      ],
      "metadata": {
        "id": "WNkQiCnKc2M3"
      }
    },
    {
      "cell_type": "code",
      "source": [
        "survived_counts = df['Survived'].value_counts()\n",
        "print(survived_counts)\n"
      ],
      "metadata": {
        "colab": {
          "base_uri": "https://localhost:8080/"
        },
        "id": "672E7H_0ce2o",
        "outputId": "1f17bb03-3752-420b-d1b6-395ae8a5a302"
      },
      "execution_count": 26,
      "outputs": [
        {
          "output_type": "stream",
          "name": "stdout",
          "text": [
            "Survived\n",
            "0    549\n",
            "1    342\n",
            "Name: count, dtype: int64\n"
          ]
        }
      ]
    },
    {
      "cell_type": "markdown",
      "source": [
        "Calculate the mean age of passengers:"
      ],
      "metadata": {
        "id": "xsE8mv4Ic2pX"
      }
    },
    {
      "cell_type": "code",
      "source": [
        "mean_age = df['Age'].mean()\n",
        "print(\"Mean Age:\", mean_age)\n"
      ],
      "metadata": {
        "colab": {
          "base_uri": "https://localhost:8080/"
        },
        "id": "qpNhy-uNce4n",
        "outputId": "8fa9b9a0-b6b1-4db5-beae-c95dd6c858d5"
      },
      "execution_count": 27,
      "outputs": [
        {
          "output_type": "stream",
          "name": "stdout",
          "text": [
            "Mean Age: 29.69911764705882\n"
          ]
        }
      ]
    },
    {
      "cell_type": "markdown",
      "source": [
        "Find the percentage of passengers who survived:"
      ],
      "metadata": {
        "id": "PJ_bGmLac3CH"
      }
    },
    {
      "cell_type": "code",
      "source": [
        "survival_rate = df['Survived'].mean() * 100\n",
        "print(\"Survival Rate (%):\", survival_rate)\n"
      ],
      "metadata": {
        "colab": {
          "base_uri": "https://localhost:8080/"
        },
        "id": "y8oSRrezc3ZI",
        "outputId": "75959dbb-515e-4e92-937a-1c0a760ba404"
      },
      "execution_count": 28,
      "outputs": [
        {
          "output_type": "stream",
          "name": "stdout",
          "text": [
            "Survival Rate (%): 38.38383838383838\n"
          ]
        }
      ]
    },
    {
      "cell_type": "markdown",
      "source": [
        "Group passengers by class and find the average fare:"
      ],
      "metadata": {
        "id": "823MGsC3c3xv"
      }
    },
    {
      "cell_type": "code",
      "source": [
        "avg_fare_by_class = df.groupby('Pclass')['Fare'].mean()\n",
        "print(avg_fare_by_class)\n"
      ],
      "metadata": {
        "colab": {
          "base_uri": "https://localhost:8080/"
        },
        "id": "t-Rsp_BJc4Po",
        "outputId": "0b167c0c-be06-4f67-b1ab-3758c0dc4184"
      },
      "execution_count": 29,
      "outputs": [
        {
          "output_type": "stream",
          "name": "stdout",
          "text": [
            "Pclass\n",
            "1    84.154687\n",
            "2    20.662183\n",
            "3    13.675550\n",
            "Name: Fare, dtype: float64\n"
          ]
        }
      ]
    },
    {
      "cell_type": "markdown",
      "source": [
        "Create a new column 'FamilySize' that is the sum of 'SibSp' and 'Parch':"
      ],
      "metadata": {
        "id": "8rkDO1mwc4kP"
      }
    },
    {
      "cell_type": "code",
      "source": [
        "df['FamilySize'] = df['SibSp'] + df['Parch']\n",
        "print(df[['SibSp', 'Parch', 'FamilySize']].head())\n"
      ],
      "metadata": {
        "colab": {
          "base_uri": "https://localhost:8080/"
        },
        "id": "ps2hzV1xc4_w",
        "outputId": "82f09109-1c97-45cd-eb45-e971473fae95"
      },
      "execution_count": 30,
      "outputs": [
        {
          "output_type": "stream",
          "name": "stdout",
          "text": [
            "   SibSp  Parch  FamilySize\n",
            "0      1      0           1\n",
            "1      1      0           1\n",
            "2      0      0           0\n",
            "3      1      0           1\n",
            "4      0      0           0\n"
          ]
        }
      ]
    },
    {
      "cell_type": "markdown",
      "source": [
        "Find the most common port of embarkation:"
      ],
      "metadata": {
        "id": "s1TQayipc5dH"
      }
    },
    {
      "cell_type": "code",
      "source": [
        "common_port = df['Embarked'].mode()[0]\n",
        "print(\"Most Common Port of Embarkation:\", common_port)\n"
      ],
      "metadata": {
        "colab": {
          "base_uri": "https://localhost:8080/"
        },
        "id": "7ge7FA74c50R",
        "outputId": "d3004700-597f-44e7-c397-064b722fb3fc"
      },
      "execution_count": 31,
      "outputs": [
        {
          "output_type": "stream",
          "name": "stdout",
          "text": [
            "Most Common Port of Embarkation: S\n"
          ]
        }
      ]
    },
    {
      "cell_type": "markdown",
      "source": [
        "Drop rows with missing values in the 'Age' column:"
      ],
      "metadata": {
        "id": "YTlpZsNZc6ay"
      }
    },
    {
      "cell_type": "code",
      "source": [
        "df_cleaned = df.dropna(subset=['Age'])\n",
        "print(df_cleaned.info())\n"
      ],
      "metadata": {
        "colab": {
          "base_uri": "https://localhost:8080/"
        },
        "id": "9xjz0wisc6r3",
        "outputId": "396ed2ff-591e-4ccf-9a5c-d01e34c75dbd"
      },
      "execution_count": 32,
      "outputs": [
        {
          "output_type": "stream",
          "name": "stdout",
          "text": [
            "<class 'pandas.core.frame.DataFrame'>\n",
            "Index: 714 entries, 0 to 890\n",
            "Data columns (total 13 columns):\n",
            " #   Column       Non-Null Count  Dtype  \n",
            "---  ------       --------------  -----  \n",
            " 0   PassengerId  714 non-null    int64  \n",
            " 1   Survived     714 non-null    int64  \n",
            " 2   Pclass       714 non-null    int64  \n",
            " 3   Name         714 non-null    object \n",
            " 4   Sex          714 non-null    object \n",
            " 5   Age          714 non-null    float64\n",
            " 6   SibSp        714 non-null    int64  \n",
            " 7   Parch        714 non-null    int64  \n",
            " 8   Ticket       714 non-null    object \n",
            " 9   Fare         714 non-null    float64\n",
            " 10  Cabin        185 non-null    object \n",
            " 11  Embarked     712 non-null    object \n",
            " 12  FamilySize   714 non-null    int64  \n",
            "dtypes: float64(2), int64(6), object(5)\n",
            "memory usage: 78.1+ KB\n",
            "None\n"
          ]
        }
      ]
    },
    {
      "cell_type": "markdown",
      "source": [
        "Create a pivot table showing the survival rate by class and gender:"
      ],
      "metadata": {
        "id": "xKq4kqwsc64P"
      }
    },
    {
      "cell_type": "code",
      "source": [
        "pivot_table = df.pivot_table(values='Survived', index='Pclass', columns='Sex', aggfunc='mean')\n",
        "print(pivot_table)"
      ],
      "metadata": {
        "colab": {
          "base_uri": "https://localhost:8080/"
        },
        "id": "uL_LoeTOc7Mn",
        "outputId": "c1dc6100-08e5-4f5d-ec65-83d20f2df40c"
      },
      "execution_count": 33,
      "outputs": [
        {
          "output_type": "stream",
          "name": "stdout",
          "text": [
            "Sex       female      male\n",
            "Pclass                    \n",
            "1       0.968085  0.368852\n",
            "2       0.921053  0.157407\n",
            "3       0.500000  0.135447\n"
          ]
        }
      ]
    },
    {
      "cell_type": "markdown",
      "source": [
        "Fill missing values in the 'Age' column with the mean age:"
      ],
      "metadata": {
        "id": "IRSAixuSc7d3"
      }
    },
    {
      "cell_type": "code",
      "source": [
        "df['Age'].fillna(df['Age'].mean(), inplace=True)\n",
        "print(df.info())\n"
      ],
      "metadata": {
        "colab": {
          "base_uri": "https://localhost:8080/"
        },
        "id": "9O5pKIzSc76Q",
        "outputId": "257efb0c-a276-4e82-a1c1-4bc83ca53989"
      },
      "execution_count": 34,
      "outputs": [
        {
          "output_type": "stream",
          "name": "stdout",
          "text": [
            "<class 'pandas.core.frame.DataFrame'>\n",
            "RangeIndex: 891 entries, 0 to 890\n",
            "Data columns (total 13 columns):\n",
            " #   Column       Non-Null Count  Dtype  \n",
            "---  ------       --------------  -----  \n",
            " 0   PassengerId  891 non-null    int64  \n",
            " 1   Survived     891 non-null    int64  \n",
            " 2   Pclass       891 non-null    int64  \n",
            " 3   Name         891 non-null    object \n",
            " 4   Sex          891 non-null    object \n",
            " 5   Age          891 non-null    float64\n",
            " 6   SibSp        891 non-null    int64  \n",
            " 7   Parch        891 non-null    int64  \n",
            " 8   Ticket       891 non-null    object \n",
            " 9   Fare         891 non-null    float64\n",
            " 10  Cabin        204 non-null    object \n",
            " 11  Embarked     889 non-null    object \n",
            " 12  FamilySize   891 non-null    int64  \n",
            "dtypes: float64(2), int64(6), object(5)\n",
            "memory usage: 90.6+ KB\n",
            "None\n"
          ]
        },
        {
          "output_type": "stream",
          "name": "stderr",
          "text": [
            "<ipython-input-34-81faa38da66b>:1: FutureWarning: A value is trying to be set on a copy of a DataFrame or Series through chained assignment using an inplace method.\n",
            "The behavior will change in pandas 3.0. This inplace method will never work because the intermediate object on which we are setting values always behaves as a copy.\n",
            "\n",
            "For example, when doing 'df[col].method(value, inplace=True)', try using 'df.method({col: value}, inplace=True)' or df[col] = df[col].method(value) instead, to perform the operation inplace on the original object.\n",
            "\n",
            "\n",
            "  df['Age'].fillna(df['Age'].mean(), inplace=True)\n"
          ]
        }
      ]
    },
    {
      "cell_type": "markdown",
      "source": [
        "Sort the dataset by 'Fare' in descending order:"
      ],
      "metadata": {
        "id": "o8M3aRL9c8NP"
      }
    },
    {
      "cell_type": "code",
      "source": [
        "sorted_df = df.sort_values(by='Fare', ascending=False)\n",
        "print(sorted_df.head())\n"
      ],
      "metadata": {
        "colab": {
          "base_uri": "https://localhost:8080/"
        },
        "id": "-UvuDrKDc8jf",
        "outputId": "eea01dc9-c154-415d-e77a-3f98062e1211"
      },
      "execution_count": 35,
      "outputs": [
        {
          "output_type": "stream",
          "name": "stdout",
          "text": [
            "     PassengerId  Survived  Pclass                                Name  \\\n",
            "258          259         1       1                    Ward, Miss. Anna   \n",
            "737          738         1       1              Lesurer, Mr. Gustave J   \n",
            "679          680         1       1  Cardeza, Mr. Thomas Drake Martinez   \n",
            "88            89         1       1          Fortune, Miss. Mabel Helen   \n",
            "27            28         0       1      Fortune, Mr. Charles Alexander   \n",
            "\n",
            "        Sex   Age  SibSp  Parch    Ticket      Fare        Cabin Embarked  \\\n",
            "258  female  35.0      0      0  PC 17755  512.3292          NaN        C   \n",
            "737    male  35.0      0      0  PC 17755  512.3292         B101        C   \n",
            "679    male  36.0      0      1  PC 17755  512.3292  B51 B53 B55        C   \n",
            "88   female  23.0      3      2     19950  263.0000  C23 C25 C27        S   \n",
            "27     male  19.0      3      2     19950  263.0000  C23 C25 C27        S   \n",
            "\n",
            "     FamilySize  \n",
            "258           0  \n",
            "737           0  \n",
            "679           1  \n",
            "88            5  \n",
            "27            5  \n"
          ]
        }
      ]
    },
    {
      "cell_type": "markdown",
      "source": [
        "Create a histogram of passenger ages:"
      ],
      "metadata": {
        "id": "j7NNr7W_gPt3"
      }
    },
    {
      "cell_type": "code",
      "source": [
        "import matplotlib.pyplot as plt\n",
        "\n",
        "df['Age'].plot(kind='hist', bins=20, edgecolor='black')\n",
        "plt.title('Distribution of Passenger Ages')\n",
        "plt.xlabel('Age')\n",
        "plt.ylabel('Frequency')\n",
        "plt.show()\n"
      ],
      "metadata": {
        "colab": {
          "base_uri": "https://localhost:8080/",
          "height": 472
        },
        "id": "faWaGKuFgKIA",
        "outputId": "f56a061a-ab33-4473-f59f-25b004acc852"
      },
      "execution_count": 36,
      "outputs": [
        {
          "output_type": "display_data",
          "data": {
            "text/plain": [
              "<Figure size 640x480 with 1 Axes>"
            ],
            "image/png": "[encoded data removed]"
          },
          "metadata": {}
        }
      ]
    },
    {
      "cell_type": "markdown",
      "source": [
        "Create a bar chart of the number of passengers in each class:"
      ],
      "metadata": {
        "id": "ZTunHQ-JgXtH"
      }
    },
    {
      "cell_type": "code",
      "source": [
        "df['Pclass'].value_counts().sort_index().plot(kind='bar')\n",
        "plt.title('Number of Passengers in Each Class')\n",
        "plt.xlabel('Class')\n",
        "plt.ylabel('Number of Passengers')\n",
        "plt.show()\n"
      ],
      "metadata": {
        "colab": {
          "base_uri": "https://localhost:8080/",
          "height": 467
        },
        "id": "UwZjuEGVgRYI",
        "outputId": "9ef4b87e-602c-44ae-f54e-18f65f18e542"
      },
      "execution_count": 37,
      "outputs": [
        {
          "output_type": "display_data",
          "data": {
            "text/plain": [
              "<Figure size 640x480 with 1 Axes>"
            ],
            "image/png": "[encoded data removed]"
          },
          "metadata": {}
        }
      ]
    },
    {
      "cell_type": "markdown",
      "source": [
        "Check for duplicate rows in the dataset:"
      ],
      "metadata": {
        "id": "_dk39yiegYhf"
      }
    },
    {
      "cell_type": "code",
      "source": [
        "duplicate_rows = df[df.duplicated()]\n",
        "print(\"Number of duplicate rows:\", duplicate_rows.shape[0])\n"
      ],
      "metadata": {
        "colab": {
          "base_uri": "https://localhost:8080/"
        },
        "id": "DN9Dn_pngY1Y",
        "outputId": "b31af140-531c-46bd-fe88-b3e1aca8a2de"
      },
      "execution_count": 38,
      "outputs": [
        {
          "output_type": "stream",
          "name": "stdout",
          "text": [
            "Number of duplicate rows: 0\n"
          ]
        }
      ]
    },
    {
      "cell_type": "markdown",
      "source": [
        "Create a new column 'AgeGroup' that classifies passengers as 'Child' (<=12), 'Teen' (13-19), 'Adult' (20-59), or 'Senior' (60+):"
      ],
      "metadata": {
        "id": "ooLK-f01gZGf"
      }
    },
    {
      "cell_type": "code",
      "source": [
        "def classify_age(age):\n",
        "    if age <= 12:\n",
        "        return 'Child'\n",
        "    elif age <= 19:\n",
        "        return 'Teen'\n",
        "    elif age <= 59:\n",
        "        return 'Adult'\n",
        "    else:\n",
        "        return 'Senior'\n",
        "\n",
        "df['AgeGroup'] = df['Age'].apply(classify_age)\n",
        "print(df[['Age', 'AgeGroup']].head())\n"
      ],
      "metadata": {
        "colab": {
          "base_uri": "https://localhost:8080/"
        },
        "id": "8U02sw3ugZZI",
        "outputId": "b247e3c0-7695-419c-d39f-3367b0ed3760"
      },
      "execution_count": 39,
      "outputs": [
        {
          "output_type": "stream",
          "name": "stdout",
          "text": [
            "    Age AgeGroup\n",
            "0  22.0    Adult\n",
            "1  38.0    Adult\n",
            "2  26.0    Adult\n",
            "3  35.0    Adult\n",
            "4  35.0    Adult\n"
          ]
        }
      ]
    },
    {
      "cell_type": "markdown",
      "source": [
        "Calculate the survival rate for each age group:"
      ],
      "metadata": {
        "id": "DDvaw2-YgZrI"
      }
    },
    {
      "cell_type": "code",
      "source": [
        "survival_rate_by_age_group = df.groupby('AgeGroup')['Survived'].mean()\n",
        "print(survival_rate_by_age_group)"
      ],
      "metadata": {
        "colab": {
          "base_uri": "https://localhost:8080/"
        },
        "id": "FIiv0QbfgaVw",
        "outputId": "b9128af9-4d9b-4bdb-ac51-db11ba0b177e"
      },
      "execution_count": 40,
      "outputs": [
        {
          "output_type": "stream",
          "name": "stdout",
          "text": [
            "AgeGroup\n",
            "Adult     0.365193\n",
            "Child     0.579710\n",
            "Senior    0.269231\n",
            "Teen      0.410526\n",
            "Name: Survived, dtype: float64\n"
          ]
        }
      ]
    },
    {
      "cell_type": "markdown",
      "source": [
        "Use pivot_table to show the average fare paid for each combination of class and embarkation port:"
      ],
      "metadata": {
        "id": "xs5TyELcgamP"
      }
    },
    {
      "cell_type": "code",
      "source": [
        "avg_fare_pivot = df.pivot_table(values='Fare', index='Pclass', columns='Embarked', aggfunc='mean')\n",
        "print(avg_fare_pivot)\n"
      ],
      "metadata": {
        "colab": {
          "base_uri": "https://localhost:8080/"
        },
        "id": "ecqhvFwbgbAX",
        "outputId": "4816b91b-8594-4799-fef5-f0db1cd1f6de"
      },
      "execution_count": 41,
      "outputs": [
        {
          "output_type": "stream",
          "name": "stdout",
          "text": [
            "Embarked           C          Q          S\n",
            "Pclass                                    \n",
            "1         104.718529  90.000000  70.364862\n",
            "2          25.358335  12.350000  20.327439\n",
            "3          11.214083  11.183393  14.644083\n"
          ]
        }
      ]
    },
    {
      "cell_type": "markdown",
      "source": [
        "Identify passengers with missing 'Age' values and fill them with the median age of their class:"
      ],
      "metadata": {
        "id": "Olf_S1NTgbWo"
      }
    },
    {
      "cell_type": "code",
      "source": [
        "df['Age'] = df.groupby('Pclass')['Age'].transform(lambda x: x.fillna(x.median()))\n",
        "print(df.info())\n"
      ],
      "metadata": {
        "colab": {
          "base_uri": "https://localhost:8080/"
        },
        "id": "YiDT7K9ugbwn",
        "outputId": "38e5f623-07eb-484c-f9f2-e577d26f7125"
      },
      "execution_count": 44,
      "outputs": [
        {
          "output_type": "stream",
          "name": "stdout",
          "text": [
            "<class 'pandas.core.frame.DataFrame'>\n",
            "RangeIndex: 891 entries, 0 to 890\n",
            "Data columns (total 14 columns):\n",
            " #   Column       Non-Null Count  Dtype  \n",
            "---  ------       --------------  -----  \n",
            " 0   PassengerId  891 non-null    int64  \n",
            " 1   Survived     891 non-null    int64  \n",
            " 2   Pclass       891 non-null    int64  \n",
            " 3   Name         891 non-null    object \n",
            " 4   Sex          891 non-null    object \n",
            " 5   Age          891 non-null    float64\n",
            " 6   SibSp        891 non-null    int64  \n",
            " 7   Parch        891 non-null    int64  \n",
            " 8   Ticket       891 non-null    object \n",
            " 9   Fare         891 non-null    float64\n",
            " 10  Cabin        204 non-null    object \n",
            " 11  Embarked     889 non-null    object \n",
            " 12  FamilySize   891 non-null    int64  \n",
            " 13  AgeGroup     891 non-null    object \n",
            "dtypes: float64(2), int64(6), object(6)\n",
            "memory usage: 97.6+ KB\n",
            "None\n"
          ]
        }
      ]
    },
    {
      "cell_type": "markdown",
      "source": [
        "Analyze correlation between numeric columns using a correlation matrix:"
      ],
      "metadata": {
        "id": "9fcnHoazgb93"
      }
    },
    {
      "cell_type": "code",
      "source": [
        "import numpy as np\n",
        "numeric_df = df.select_dtypes(include=[np.number])\n",
        "correlation_matrix = numeric_df.corr()\n",
        "print(correlation_matrix)\n"
      ],
      "metadata": {
        "colab": {
          "base_uri": "https://localhost:8080/"
        },
        "id": "2Mf18kKNgcQ_",
        "outputId": "84bf0866-08c1-4fb6-a352-64be7efa57b8"
      },
      "execution_count": 47,
      "outputs": [
        {
          "output_type": "stream",
          "name": "stdout",
          "text": [
            "             PassengerId  Survived    Pclass       Age     SibSp     Parch  \\\n",
            "PassengerId     1.000000 -0.005007 -0.035144  0.033207 -0.057527 -0.001652   \n",
            "Survived       -0.005007  1.000000 -0.338481 -0.069809 -0.035322  0.081629   \n",
            "Pclass         -0.035144 -0.338481  1.000000 -0.331339  0.083081  0.018443   \n",
            "Age             0.033207 -0.069809 -0.331339  1.000000 -0.232625 -0.179191   \n",
            "SibSp          -0.057527 -0.035322  0.083081 -0.232625  1.000000  0.414838   \n",
            "Parch          -0.001652  0.081629  0.018443 -0.179191  0.414838  1.000000   \n",
            "Fare            0.012658  0.257307 -0.549500  0.091566  0.159651  0.216225   \n",
            "FamilySize     -0.040143  0.016639  0.065997 -0.248512  0.890712  0.783111   \n",
            "\n",
            "                 Fare  FamilySize  \n",
            "PassengerId  0.012658   -0.040143  \n",
            "Survived     0.257307    0.016639  \n",
            "Pclass      -0.549500    0.065997  \n",
            "Age          0.091566   -0.248512  \n",
            "SibSp        0.159651    0.890712  \n",
            "Parch        0.216225    0.783111  \n",
            "Fare         1.000000    0.217138  \n",
            "FamilySize   0.217138    1.000000  \n"
          ]
        }
      ]
    },
    {
      "cell_type": "markdown",
      "source": [
        "Visualize the survival rate across different age groups and classes using a bar chart:"
      ],
      "metadata": {
        "id": "fmINRJQhiWh3"
      }
    },
    {
      "cell_type": "code",
      "source": [
        "survival_rate = df.groupby(['AgeGroup', 'Pclass'])['Survived'].mean().unstack()\n",
        "survival_rate.plot(kind='bar', stacked=True)\n",
        "plt.title('Survival Rate by Age Group and Class')\n",
        "plt.xlabel('Age Group')\n",
        "plt.ylabel('Survival Rate')\n",
        "plt.show()\n"
      ],
      "metadata": {
        "colab": {
          "base_uri": "https://localhost:8080/",
          "height": 502
        },
        "id": "fS_elpueiYSG",
        "outputId": "dfc5def6-21c2-4e5c-bfd8-6d9d355040d2"
      },
      "execution_count": 48,
      "outputs": [
        {
          "output_type": "display_data",
          "data": {
            "text/plain": [
              "<Figure size 640x480 with 1 Axes>"
            ],
            "image/png": "[encoded data removed]"
          },
          "metadata": {}
        }
      ]
    },
    {
      "cell_type": "markdown",
      "source": [
        "Find the top 5 most common names among the passengers:"
      ],
      "metadata": {
        "id": "BbLlFMvMigsZ"
      }
    },
    {
      "cell_type": "code",
      "source": [
        "df['FirstName'] = df['Name'].apply(lambda x: x.split(',')[1].split('.')[1].strip())\n",
        "most_common_names = df['FirstName'].value_counts().head(5)\n",
        "print(most_common_names)\n"
      ],
      "metadata": {
        "colab": {
          "base_uri": "https://localhost:8080/"
        },
        "id": "ATe0UnJ6ii_w",
        "outputId": "ad778e04-a8a0-40fd-9003-55b374a01e82"
      },
      "execution_count": 49,
      "outputs": [
        {
          "output_type": "stream",
          "name": "stdout",
          "text": [
            "FirstName\n",
            "John       9\n",
            "James      7\n",
            "William    6\n",
            "Mary       6\n",
            "Bertha     4\n",
            "Name: count, dtype: int64\n"
          ]
        }
      ]
    },
    {
      "cell_type": "markdown",
      "source": [
        "Calculate the average age of survivors and non-survivors:"
      ],
      "metadata": {
        "id": "aq_-IRXliUCn"
      }
    },
    {
      "cell_type": "code",
      "source": [
        "avg_age_survivors = df[df['Survived'] == 1]['Age'].mean()\n",
        "avg_age_non_survivors = df[df['Survived'] == 0]['Age'].mean()\n",
        "print(f\"Average Age of Survivors: {avg_age_survivors}\")\n",
        "print(f\"Average Age of Non-Survivors: {avg_age_non_survivors}\")\n"
      ],
      "metadata": {
        "colab": {
          "base_uri": "https://localhost:8080/"
        },
        "id": "EX9jVDUfh3XQ",
        "outputId": "b664ece9-f2e4-42a9-e325-b0f38a824ddd"
      },
      "execution_count": 50,
      "outputs": [
        {
          "output_type": "stream",
          "name": "stdout",
          "text": [
            "Average Age of Survivors: 28.549778121775027\n",
            "Average Age of Non-Survivors: 30.415099646415943\n"
          ]
        }
      ]
    },
    {
      "cell_type": "markdown",
      "source": [
        "Create a heatmap of the correlation matrix using Seaborn:"
      ],
      "metadata": {
        "id": "pWqJDCpai1X3"
      }
    },
    {
      "cell_type": "code",
      "source": [
        "import seaborn as sns\n",
        "\n",
        "sns.heatmap(correlation_matrix, annot=True, cmap='coolwarm')\n",
        "plt.title('Correlation Matrix Heatmap')\n",
        "plt.show()\n"
      ],
      "metadata": {
        "colab": {
          "base_uri": "https://localhost:8080/",
          "height": 522
        },
        "id": "B2Towx1git-o",
        "outputId": "0b03dc92-8c8a-4c17-8e59-6ddbcc9ee714"
      },
      "execution_count": 51,
      "outputs": [
        {
          "output_type": "display_data",
          "data": {
            "text/plain": [
              "<Figure size 640x480 with 2 Axes>"
            ],
            "image/png": "[encoded data removed]"
          },
          "metadata": {}
        }
      ]
    },
    {
      "cell_type": "markdown",
      "source": [
        "Perform a groupby operation to find the average fare for each class and gender combination:"
      ],
      "metadata": {
        "id": "l5CKq01mmKOg"
      }
    },
    {
      "cell_type": "code",
      "source": [
        "avg_fare_by_class_gender = df.groupby(['Pclass', 'Sex'])['Fare'].mean()\n",
        "print(avg_fare_by_class_gender)\n"
      ],
      "metadata": {
        "colab": {
          "base_uri": "https://localhost:8080/"
        },
        "id": "yVeGrk9Wi2vI",
        "outputId": "96dfcad2-2051-49ff-bc88-4886ad71b5bf"
      },
      "execution_count": 52,
      "outputs": [
        {
          "output_type": "stream",
          "name": "stdout",
          "text": [
            "Pclass  Sex   \n",
            "1       female    106.125798\n",
            "        male       67.226127\n",
            "2       female     21.970121\n",
            "        male       19.741782\n",
            "3       female     16.118810\n",
            "        male       12.661633\n",
            "Name: Fare, dtype: float64\n"
          ]
        }
      ]
    }
  ]
}